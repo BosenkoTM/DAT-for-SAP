{
  "cells": [
    {
      "cell_type": "markdown",
      "metadata": {
        "id": "view-in-github",
        "colab_type": "text"
      },
      "source": [
        "<a href=\"https://colab.research.google.com/github/BosenkoTM/Data-analytics-tools-for-solving-applied-problems/blob/main/marketing_analytics_students.ipynb\" target=\"_parent\"><img src=\"https://colab.research.google.com/assets/colab-badge.svg\" alt=\"Open In Colab\"/></a>"
      ]
    },
    {
      "cell_type": "markdown",
      "metadata": {
        "id": "SxUnYhDKTMFD"
      },
      "source": [
        "# **Постановка задачи**"
      ]
    },
    {
      "cell_type": "markdown",
      "metadata": {
        "id": "tlEUZkQ5yvCg"
      },
      "source": [
        "Директор по маркетингу сообщил нам, что недавние маркетинговые иссследования оказались не такими эффективными, как ожидалось. Нам нужно проанализировать набор данных, чтобы понять проблему.\n",
        "\n",
        "Исследовательский анализ данных\n",
        "\n",
        "* Имеются ли нулевые значения или выбросы? \n",
        "* Существуют ли какие-либо переменные, требующие преобразований?\n",
        "* Есть ли какие-нибудь полезные переменные, которые вы можете спроектировать с заданными данными?\n",
        "\n",
        "Статистический анализ\n",
        "\n",
        "* Какие факторы  связаны с количеством покупок в магазине?\n",
        "* С точки зрения общего объема покупок дела в США значительно лучше, чем в остальном мире?\n",
        "\n",
        "\n",
        "Визуализация данных\n",
        "\n",
        "* Какая маркетинговая кампания наиболее успешна?\n",
        "* Как выглядит средний клиент этой компании?\n",
        "* Какие продукты работают лучше всего?"
      ]
    },
    {
      "cell_type": "markdown",
      "metadata": {
        "id": "GRuv2QblTMFP"
      },
      "source": [
        "# **Load the packages**"
      ]
    },
    {
      "cell_type": "code",
      "source": [
        "!pip install dython"
      ],
      "metadata": {
        "id": "1o5f5csQdrM-"
      },
      "execution_count": null,
      "outputs": []
    },
    {
      "cell_type": "code",
      "execution_count": null,
      "metadata": {
        "id": "X04Hk0khyvCl"
      },
      "outputs": [],
      "source": [
        "# Importing libraries\n",
        "import pandas as pd\n",
        "import numpy as np\n",
        "import matplotlib.pyplot as plt\n",
        "\n",
        "%matplotlib inline"
      ]
    },
    {
      "cell_type": "code",
      "execution_count": null,
      "metadata": {
        "id": "g8JglFaDTMFT"
      },
      "outputs": [],
      "source": [
        "pd.options.mode.chained_assignment = None"
      ]
    },
    {
      "cell_type": "markdown",
      "metadata": {
        "id": "o47gRIa2TMFU"
      },
      "source": [
        "# **Load the data**"
      ]
    },
    {
      "cell_type": "markdown",
      "metadata": {
        "id": "P-yqqtUmTMFW"
      },
      "source": [
        "Для этого проекта использовался [набор маркетинговых данных](https://www.kaggle.com/datasets/lancengck/marketing-data) из задачи  команды iFood Brain в роли аналитиков данных. Этот набор данных содержит социально-демографические и фирмографические характеристики 2240 клиентов."
      ]
    },
    {
      "cell_type": "code",
      "source": [
        "from google.colab import files\n",
        "\n",
        "uploaded = files.upload()\n",
        "\n",
        "for fn in uploaded.keys():\n",
        "  print('User uploaded file \"{name}\" with length {length} bytes'.format(\n",
        "      name=fn, length=len(uploaded[fn])))"
      ],
      "metadata": {
        "id": "Jx6uAXHQaLpw"
      },
      "execution_count": null,
      "outputs": []
    },
    {
      "cell_type": "code",
      "execution_count": null,
      "metadata": {
        "id": "jNqFWr7_yvCo"
      },
      "outputs": [],
      "source": [
        "# Load dataset\n",
        "df = pd.read_csv('marketing_data.csv').iloc[: , 1:]"
      ]
    },
    {
      "cell_type": "code",
      "execution_count": null,
      "metadata": {
        "id": "qu6956CxyvCo"
      },
      "outputs": [],
      "source": [
        "# Rename Pandas columns to lower case\n",
        "df.columns = df.columns.str.lower()"
      ]
    },
    {
      "cell_type": "code",
      "execution_count": null,
      "metadata": {
        "id": "E_KZ9gkXyvCq"
      },
      "outputs": [],
      "source": [
        "df = df.applymap(lambda s: s.lower() if type(s) == str else s)"
      ]
    },
    {
      "cell_type": "code",
      "execution_count": null,
      "metadata": {
        "id": "fxU5UrFAyvCq"
      },
      "outputs": [],
      "source": [
        "# Examine the data\n",
        "df.head()"
      ]
    },
    {
      "cell_type": "code",
      "execution_count": null,
      "metadata": {
        "id": "4TxG0erDyvCr"
      },
      "outputs": [],
      "source": [
        "# Overview of all variables, their datatypes\n",
        "df.info()"
      ]
    },
    {
      "cell_type": "markdown",
      "metadata": {
        "id": "HondTqjsTMFf"
      },
      "source": [
        "# **Preprocess the data**"
      ]
    },
    {
      "cell_type": "code",
      "execution_count": null,
      "metadata": {
        "id": "n868ZhQt0e9D"
      },
      "outputs": [],
      "source": [
        "# Clean up column names that contain whitespace\n",
        "df.columns = df.columns.str.replace(' ', '')"
      ]
    },
    {
      "cell_type": "code",
      "execution_count": null,
      "metadata": {
        "id": "NhBMd6ApzhZ9"
      },
      "outputs": [],
      "source": [
        "# Transform income column to a numerical\n",
        "df['income'] = df['income'].str.replace(',','').str.replace('$','').astype('float')"
      ]
    },
    {
      "cell_type": "code",
      "execution_count": null,
      "metadata": {
        "id": "ABfnshaayvCs"
      },
      "outputs": [],
      "source": [
        "import datetime "
      ]
    },
    {
      "cell_type": "code",
      "execution_count": null,
      "metadata": {
        "id": "GR_F9Te0yvCt"
      },
      "outputs": [],
      "source": [
        "current_year = datetime.date.today().year\n",
        "current_year"
      ]
    },
    {
      "cell_type": "code",
      "execution_count": null,
      "metadata": {
        "id": "h2pbrX24yvCt"
      },
      "outputs": [],
      "source": [
        "# Replace 'year_birth' with 'age'\n",
        "df['age'] = current_year - df['year_birth']"
      ]
    },
    {
      "cell_type": "code",
      "execution_count": null,
      "metadata": {
        "id": "JDm-JgANyvC0"
      },
      "outputs": [],
      "source": [
        "# Modify date of enrollment to total number of months since enrollment\n",
        "df['enrollment_month'] = (pd.to_datetime('now') - pd.to_datetime(df['dt_customer'])) // np.timedelta64(1,'M')  "
      ]
    },
    {
      "cell_type": "code",
      "execution_count": null,
      "metadata": {
        "id": "k_jceB2-TMFr"
      },
      "outputs": [],
      "source": [
        "# Rename the column 'response'\n",
        "df = df.rename(columns = {'response': 'acceptedcmp6'})"
      ]
    },
    {
      "cell_type": "code",
      "execution_count": null,
      "metadata": {
        "id": "SPlHqB4RyvCu"
      },
      "outputs": [],
      "source": [
        "# Drop unnecessary columns\n",
        "df = df.drop(['year_birth', 'dt_customer'], axis = 1)"
      ]
    },
    {
      "cell_type": "code",
      "execution_count": null,
      "metadata": {
        "id": "qvE1A-H8yvCv"
      },
      "outputs": [],
      "source": [
        "df.describe()"
      ]
    },
    {
      "cell_type": "markdown",
      "metadata": {
        "id": "vUCQehRKTMFv"
      },
      "source": [
        "Мы можем выделить некоторые выбросы как по возрасту, так и по доходу. Похоже, у нас есть клиенты, которым больше 100 лет, или их доход на семью превышает 600 000 долларов США!"
      ]
    },
    {
      "cell_type": "code",
      "source": [
        "!pip install gitly"
      ],
      "metadata": {
        "id": "0HZ38Outa1bD"
      },
      "execution_count": null,
      "outputs": []
    },
    {
      "cell_type": "code",
      "execution_count": null,
      "metadata": {
        "id": "CgIIfTwjyvCw"
      },
      "outputs": [],
      "source": [
        "from plotly.subplots import make_subplots\n",
        "import plotly.graph_objects as go\n",
        "from gitly.colab.plot import GitlyPlotter"
      ]
    },
    {
      "cell_type": "code",
      "execution_count": null,
      "metadata": {
        "id": "TDqMLoVeTMFz"
      },
      "outputs": [],
      "source": [
        "gitly = GitlyPlotter('github')"
      ]
    },
    {
      "cell_type": "code",
      "execution_count": null,
      "metadata": {
        "id": "CoTTcy97TMF0"
      },
      "outputs": [],
      "source": [
        "fig = make_subplots(rows = 1, cols = 2)\n",
        "\n",
        "fig.add_trace(go.Box(y = df['age'], name = 'age'), row = 1, col = 1)\n",
        "fig.add_trace(go.Box(y = df['income'], name = 'income'), row = 1, col = 2)\n",
        "\n",
        "fig.update_layout(showlegend = False)\n",
        "\n",
        "gitly.show(fig)"
      ]
    },
    {
      "cell_type": "markdown",
      "metadata": {
        "id": "0ZGcfytMTMF0"
      },
      "source": [
        "У нас есть 4 клиента, которые являются исключениями. Один из них зарабатывает 666 666 долларов США, а троим из них больше 100 лет!"
      ]
    },
    {
      "cell_type": "code",
      "execution_count": null,
      "metadata": {
        "id": "tI3uQ2WyyvCx"
      },
      "outputs": [],
      "source": [
        "# Find outliers\n",
        "outliers_age = df[df['age'] > 100].index\n",
        "\n",
        "# Remove outliers\n",
        "df.drop(outliers_age, inplace = True)"
      ]
    },
    {
      "cell_type": "code",
      "execution_count": null,
      "metadata": {
        "id": "sK2nDA1XyvCy"
      },
      "outputs": [],
      "source": [
        "# Find outlier\n",
        "outliers_income = df[df['income'] > 200000].index\n",
        "\n",
        "# Remove outlier\n",
        "df.drop(outliers_income, inplace = True)"
      ]
    },
    {
      "cell_type": "code",
      "execution_count": null,
      "metadata": {
        "id": "4ak-Z2MxyvC1"
      },
      "outputs": [],
      "source": [
        "df['education'].value_counts()"
      ]
    },
    {
      "cell_type": "markdown",
      "metadata": {
        "id": "q43exHvATMGA"
      },
      "source": [
        "С точки зрения образования, и «2-й цикл», и «магистр» относятся к одному и тому же уровню образования. Это основано на Европейском пространстве высшего образования (EHEA). Поэтому мы объединим два уровня образования под словом «магистр». Кроме того, «выпускной» немного вводит в заблуждение как уровень образования. Мы предположим, что это относится к «бакалавриату» и перефразируем его как таковое."
      ]
    },
    {
      "cell_type": "code",
      "execution_count": null,
      "metadata": {
        "id": "zJj5kTJ5TMGB"
      },
      "outputs": [],
      "source": [
        "# Replace '2n cycle' with 'master'\n",
        "df['education'] = df['education'].apply(lambda x: 'master' if str(x) == '2n cycle' else str(x))"
      ]
    },
    {
      "cell_type": "code",
      "execution_count": null,
      "metadata": {
        "id": "7qvJsJiuTMGF"
      },
      "outputs": [],
      "source": [
        "# Replace 'graduation' with 'undergraduate'\n",
        "df['education'] = df['education'].apply(lambda x: 'undergraduate' if str(x) == 'graduation' else str(x))"
      ]
    },
    {
      "cell_type": "code",
      "execution_count": null,
      "metadata": {
        "id": "gLxgJoeJyvC2"
      },
      "outputs": [],
      "source": [
        "df['marital_status'].value_counts()"
      ]
    },
    {
      "cell_type": "markdown",
      "metadata": {
        "id": "KN4lmYJCTMGI"
      },
      "source": [
        "С точки зрения семейного положения, 'yolo', 'alone', и 'absurd'могут быть истолкованы и приняты как означающие «не замужем», и поэтому эти статусы будут объединены в «холост»."
      ]
    },
    {
      "cell_type": "code",
      "execution_count": null,
      "metadata": {
        "id": "tzQ6YTfYyvC8"
      },
      "outputs": [],
      "source": [
        "# Merge 'yolo', 'absurd', and 'alone' under 'single'\n",
        "df['marital_status'] = df['marital_status'].apply(lambda x: 'single' if str(x) in ['alone', 'yolo', 'absurd'] else str(x))"
      ]
    },
    {
      "cell_type": "code",
      "execution_count": null,
      "metadata": {
        "colab": {
          "base_uri": "https://localhost:8080/"
        },
        "id": "kXR7MpQ9TMGK",
        "outputId": "cd2c44e6-9408-4aa9-f516-a00edd7cea4a"
      },
      "outputs": [
        {
          "output_type": "execute_result",
          "data": {
            "text/plain": [
              "sp     1094\n",
              "sa      335\n",
              "ca      268\n",
              "aus     160\n",
              "ind     147\n",
              "ger     120\n",
              "us      109\n",
              "me        3\n",
              "Name: country, dtype: int64"
            ]
          },
          "metadata": {},
          "execution_count": 30
        }
      ],
      "source": [
        "df['country'].value_counts()"
      ]
    },
    {
      "cell_type": "markdown",
      "metadata": {
        "id": "MUmmC9x5TMGK"
      },
      "source": [
        "# **Check for missing values**"
      ]
    },
    {
      "cell_type": "code",
      "execution_count": null,
      "metadata": {
        "id": "qf0N9ErDyvC-"
      },
      "outputs": [],
      "source": [
        "df.isnull().sum()"
      ]
    },
    {
      "cell_type": "markdown",
      "metadata": {
        "id": "kB8c4UWRTMGM"
      },
      "source": [
        "У нас отсутствуют данные о доходах 24 наших клиентов."
      ]
    },
    {
      "cell_type": "markdown",
      "metadata": {
        "id": "zd2PrUp4TMGN"
      },
      "source": [
        "**Определим X и Y**"
      ]
    },
    {
      "cell_type": "code",
      "execution_count": null,
      "metadata": {
        "id": "PGcB1NqAyvC_"
      },
      "outputs": [],
      "source": [
        "X = df.drop('numstorepurchases', axis = 1)"
      ]
    },
    {
      "cell_type": "code",
      "execution_count": null,
      "metadata": {
        "id": "8wdPtdu6yvDA"
      },
      "outputs": [],
      "source": [
        "y = df['numstorepurchases']"
      ]
    },
    {
      "cell_type": "markdown",
      "metadata": {
        "id": "4K1MGWjyTMGQ"
      },
      "source": [
        "**Create test and train data**"
      ]
    },
    {
      "cell_type": "code",
      "execution_count": null,
      "metadata": {
        "id": "OOzGWNqDyvDA"
      },
      "outputs": [],
      "source": [
        "from sklearn.model_selection import train_test_split"
      ]
    },
    {
      "cell_type": "code",
      "execution_count": null,
      "metadata": {
        "id": "6VbeSBkcyvDB"
      },
      "outputs": [],
      "source": [
        "# Isolate X and y variables, and perform train-test split\n",
        "X_train, X_test, y_train, y_test = train_test_split(X, y, test_size = 0.3, random_state = 42)"
      ]
    },
    {
      "cell_type": "code",
      "execution_count": null,
      "metadata": {
        "id": "YCMZlIYbTMGS"
      },
      "outputs": [],
      "source": [
        "from sklearn.compose import ColumnTransformer\n",
        "from sklearn.impute import SimpleImputer"
      ]
    },
    {
      "cell_type": "code",
      "execution_count": null,
      "metadata": {
        "id": "qyWSKBjuTMGT"
      },
      "outputs": [],
      "source": [
        "transformer = ColumnTransformer(transformers = [('simple_imputer', SimpleImputer(strategy = 'median'), ['income'])], remainder = 'passthrough')"
      ]
    },
    {
      "cell_type": "markdown",
      "metadata": {
        "id": "HZzv8tdnTMGT"
      },
      "source": [
        "**Examine collinearity**"
      ]
    },
    {
      "cell_type": "markdown",
      "metadata": {
        "id": "VJcNAvLkTMGU"
      },
      "source": [
        "Включение функций, которые сильно коррелируют друг с другом или являются мультиколлинеарными, добавляет шум и неточность, поэтому нам нужно попытаться уменьшить это.\n",
        "\n",
        "Создание тепловой карты корреляции — хороший способ визуализировать потенциальную коллинеарность. Эмпирическое правило состоит в том, что если корреляция между двумя независимыми переменными больше 0,8, тогда будет существовать мультиколлинеарность."
      ]
    },
    {
      "cell_type": "code",
      "execution_count": null,
      "metadata": {
        "id": "SdXINm1HTMGU"
      },
      "outputs": [],
      "source": [
        "X_tr = transformer.fit_transform(X_train)"
      ]
    },
    {
      "cell_type": "code",
      "execution_count": null,
      "metadata": {
        "id": "TcLydEyGTMGV"
      },
      "outputs": [],
      "source": [
        "X_tr = pd.DataFrame(data = X_tr, columns = X.columns)"
      ]
    },
    {
      "cell_type": "code",
      "execution_count": null,
      "metadata": {
        "id": "r5t0p5pOTMGX"
      },
      "outputs": [],
      "source": [
        "from dython.nominal import associations"
      ]
    },
    {
      "cell_type": "code",
      "execution_count": null,
      "metadata": {
        "id": "apL3HbBwTMGZ"
      },
      "outputs": [],
      "source": [
        "complete_correlation = associations(X_tr, figsize = (32, 16))"
      ]
    },
    {
      "cell_type": "markdown",
      "metadata": {
        "id": "D7be8OVmTMGb"
      },
      "source": [
        "Отсутствие мультиколлинеарности среди независимых переменных."
      ]
    },
    {
      "cell_type": "markdown",
      "metadata": {
        "id": "tbOd8ICqTMGc"
      },
      "source": [
        "# **Какие факторы существенно влияют на количество покупок в магазине?**"
      ]
    },
    {
      "cell_type": "markdown",
      "metadata": {
        "id": "51Bm6RIITMGc"
      },
      "source": [
        "Мы будем использовать модель CatBoostRegressor с numstorepurchases в качестве целевой переменной, а затем использовать методы объяснимости машинного обучения, чтобы получить представление о том, какие функции предсказывают количество покупок в магазине."
      ]
    },
    {
      "cell_type": "markdown",
      "metadata": {
        "id": "HD7HLR69TMGd"
      },
      "source": [
        "Мы создаем конвейер, который меняет любые отсутствующие значения, применяет надежный масштаб к функциям, преобразует любые категориальные функции в числовые, а затем подгоняет модель CatBoostRegressor."
      ]
    },
    {
      "cell_type": "code",
      "source": [
        "!pip install catboost"
      ],
      "metadata": {
        "id": "u_uhQehlex2m"
      },
      "execution_count": null,
      "outputs": []
    },
    {
      "cell_type": "code",
      "execution_count": null,
      "metadata": {
        "id": "3RMQsAQcyvDC"
      },
      "outputs": [],
      "source": [
        "from sklearn.pipeline import Pipeline\n",
        "from sklearn.preprocessing import OneHotEncoder\n",
        "from sklearn.preprocessing import RobustScaler\n",
        "from catboost import CatBoostRegressor"
      ]
    },
    {
      "cell_type": "code",
      "execution_count": null,
      "metadata": {
        "id": "lo6A3v-uyvDC"
      },
      "outputs": [],
      "source": [
        "numeric_columns = list(X_train.select_dtypes(exclude = ['object']).columns.values.tolist())\n",
        "categorical_columns = list(X_train.select_dtypes(include = ['object']).columns.values.tolist())\n",
        "numeric_transformer = Pipeline(steps = [('simple_imputer', SimpleImputer(strategy = 'median'))])\n",
        "categorical_transformer = Pipeline(steps = [('one_hot_encoder', OneHotEncoder(sparse = False, handle_unknown = 'ignore'))])\n",
        "\n",
        "preprocessor = ColumnTransformer(transformers = [('numeric', numeric_transformer, numeric_columns),\n",
        "                                                 ('categorical', categorical_transformer, categorical_columns)], remainder = 'passthrough')\n",
        "\n",
        "bundled_pipeline = Pipeline(steps = [('preprocessor', preprocessor),\n",
        "                                     ('scaler', RobustScaler()),\n",
        "                                     ('model', CatBoostRegressor(silent = True, random_state = 42))])"
      ]
    },
    {
      "cell_type": "code",
      "execution_count": null,
      "metadata": {
        "id": "ku6nFno_yvDD"
      },
      "outputs": [],
      "source": [
        "bundled_pipeline.fit(X_train, y_train)"
      ]
    },
    {
      "cell_type": "code",
      "execution_count": null,
      "metadata": {
        "id": "bcF4OPxhyvDE"
      },
      "outputs": [],
      "source": [
        "y_pred = bundled_pipeline.predict(X_test)"
      ]
    },
    {
      "cell_type": "code",
      "execution_count": null,
      "metadata": {
        "id": "NcFy5lRtyvDG"
      },
      "outputs": [],
      "source": [
        "from sklearn.metrics import mean_absolute_error"
      ]
    },
    {
      "cell_type": "code",
      "execution_count": null,
      "metadata": {
        "id": "Z1Cngz2UyvDH"
      },
      "outputs": [],
      "source": [
        "mean_absolute_error(y_test, y_pred)"
      ]
    },
    {
      "cell_type": "markdown",
      "metadata": {
        "id": "qZbgWV39TMGg"
      },
      "source": [
        "**ELI5**"
      ]
    },
    {
      "cell_type": "markdown",
      "metadata": {
        "id": "s1ya5_n6TMGh"
      },
      "source": [
        "Из этого пайплайна непросто извлечь важные функции. Однако есть библиотека python, которая делает это очень простым, под названием ELI5.\n",
        "\n",
        "Давайте используем ELI5 для извлечения важности функций из конвейера.\n",
        "\n",
        "ELI5 необходимо знать все имена функций, чтобы определить важность функций. Применяя однократное кодирование к категориальным переменным в конвейере, мы вводим ряд новых функций. Поэтому сначала нам нужно извлечь эти имена функций и добавить их к известному списку числовых функций. В приведенном ниже коде для этого используется функция named_steps, встроенная в конвейеры scikit-learn."
      ]
    },
    {
      "cell_type": "code",
      "execution_count": null,
      "metadata": {
        "id": "QFFhAo0EyvDJ"
      },
      "outputs": [],
      "source": [
        "one_hot_columns = list(bundled_pipeline.named_steps['preprocessor'].named_transformers_['categorical'].named_steps['one_hot_encoder'].get_feature_names_out(input_features = categorical_columns))"
      ]
    },
    {
      "cell_type": "code",
      "execution_count": null,
      "metadata": {
        "id": "L7Qc43wayvDJ"
      },
      "outputs": [],
      "source": [
        "numeric_features_list = list(numeric_columns)\n",
        "numeric_features_list.extend(one_hot_columns)"
      ]
    },
    {
      "cell_type": "code",
      "source": [
        "!pip install eli5"
      ],
      "metadata": {
        "id": "CRjZsynUfOU9"
      },
      "execution_count": null,
      "outputs": []
    },
    {
      "cell_type": "code",
      "execution_count": null,
      "metadata": {
        "id": "aaUbw4xyTMGj"
      },
      "outputs": [],
      "source": [
        "import eli5"
      ]
    },
    {
      "cell_type": "markdown",
      "metadata": {
        "id": "Rfw3qaVGTMGj"
      },
      "source": [
        "To extract the feature importances we then simply need to run this line of code."
      ]
    },
    {
      "cell_type": "code",
      "execution_count": null,
      "metadata": {
        "id": "kce02PJKyvDM"
      },
      "outputs": [],
      "source": [
        "eli5.explain_weights(bundled_pipeline.named_steps['model'], top = 50, feature_names = numeric_features_list)"
      ]
    },
    {
      "cell_type": "markdown",
      "metadata": {
        "id": "QYf5bDUrTMGk"
      },
      "source": [
        "Здесь мы отмечаем, что «mntwines» и «mntmeatproducts» являются наиболее важными функциями."
      ]
    },
    {
      "cell_type": "markdown",
      "metadata": {
        "id": "PWObAwIOyvDM"
      },
      "source": [
        "**Важные замечание**"
      ]
    },
    {
      "cell_type": "markdown",
      "metadata": {
        "id": "vgK53lQpyvDN"
      },
      "source": [
        "* Чем точнее модель, тем надежнее рассчитанные значения важности.\n",
        "\n",
        "* Вычисленные значения важности описывают, насколько важны функции для модели CatBoostRegressor. Это приблизительное представление о том, насколько важны функции в данных."
      ]
    },
    {
      "cell_type": "markdown",
      "metadata": {
        "id": "0Qj8HJxUTMGl"
      },
      "source": [
        "# **С точки зрения общего объема покупок дела в США значительно лучше, чем в остальном мире?**"
      ]
    },
    {
      "cell_type": "code",
      "execution_count": null,
      "metadata": {
        "id": "Olo2WVggTMGm"
      },
      "outputs": [],
      "source": [
        "totalpurchases = df[['numdealspurchases', 'numwebpurchases', 'numcatalogpurchases', 'numstorepurchases', 'country']]"
      ]
    },
    {
      "cell_type": "code",
      "execution_count": null,
      "metadata": {
        "id": "uzZx72IITMGm"
      },
      "outputs": [],
      "source": [
        "# Calculate the total number of purchases made through different channels\n",
        "totalpurchases['totalpurchases'] = totalpurchases['numdealspurchases'] + totalpurchases['numwebpurchases'] + totalpurchases['numcatalogpurchases'] + totalpurchases['numstorepurchases']"
      ]
    },
    {
      "cell_type": "code",
      "execution_count": null,
      "metadata": {
        "id": "CA-LQ_MjTMGm"
      },
      "outputs": [],
      "source": [
        "average_purchases_per_country = totalpurchases.groupby('country').agg(total_purchases = ('totalpurchases', 'sum'))"
      ]
    },
    {
      "cell_type": "code",
      "execution_count": null,
      "metadata": {
        "id": "aviGe9ZvTMGn"
      },
      "outputs": [],
      "source": [
        "average_purchases_per_country['total_customers'] = totalpurchases['country'].value_counts()"
      ]
    },
    {
      "cell_type": "code",
      "execution_count": null,
      "metadata": {
        "id": "DN0kM-v1TMGn"
      },
      "outputs": [],
      "source": [
        "average_purchases_per_country['purchases_per_customer'] = np.floor(average_purchases_per_country['total_purchases'] / average_purchases_per_country['total_customers'])"
      ]
    },
    {
      "cell_type": "code",
      "execution_count": null,
      "metadata": {
        "id": "yvIidmzxTMGn"
      },
      "outputs": [],
      "source": [
        "average_purchases_per_country.assign(country = average_purchases_per_country.index.get_level_values('country'))"
      ]
    },
    {
      "cell_type": "code",
      "execution_count": null,
      "metadata": {
        "id": "E28wwwPxTMGo"
      },
      "outputs": [],
      "source": [
        "average_purchases_per_country.reset_index(inplace = True)"
      ]
    },
    {
      "cell_type": "code",
      "execution_count": null,
      "metadata": {
        "id": "OOAbcUuETMGo"
      },
      "outputs": [],
      "source": [
        "average_purchases_per_country = average_purchases_per_country.sort_values(by = 'total_purchases', ascending = False)"
      ]
    },
    {
      "cell_type": "code",
      "execution_count": null,
      "metadata": {
        "id": "8cqQkvtMTMGo"
      },
      "outputs": [],
      "source": [
        "import plotly.graph_objects as go"
      ]
    },
    {
      "cell_type": "code",
      "execution_count": null,
      "metadata": {
        "id": "ZmCExLoFTMGp"
      },
      "outputs": [],
      "source": [
        "fig = make_subplots(rows = 1, cols = 2, subplot_titles = ('Total purchases by country', 'Average purchases by country'))\n",
        "\n",
        "fig.add_trace(go.Bar(x = average_purchases_per_country['country'], y = average_purchases_per_country['total_purchases']), row = 1, col = 1)\n",
        "fig.add_trace(go.Bar(x = average_purchases_per_country['country'], y = average_purchases_per_country['purchases_per_customer']), row = 1, col = 2)\n",
        "\n",
        "fig['layout']['xaxis']['title'] = 'Country'\n",
        "fig['layout']['xaxis2']['title'] = 'Country'\n",
        "fig['layout']['yaxis']['title'] = 'Total purchases'\n",
        "fig['layout']['yaxis2']['title'] = 'Average purchases'\n",
        "\n",
        "fig.update_layout(showlegend = False)\n",
        "\n",
        "gitly.show(fig)"
      ]
    },
    {
      "cell_type": "markdown",
      "metadata": {
        "id": "7HRArShTTMGp"
      },
      "source": [
        "С точки зрения общего количества покупок США, похоже, не занимает лидирующее место. На самом деле он самый низкий (исключая ME из-за всего 3 записей). Однако, если мы посмотрим на покупки, сделанные на человека в стране,\n",
        " то США лидируют в чарте."
      ]
    },
    {
      "cell_type": "markdown",
      "metadata": {
        "id": "8qqhWR_yTMHe"
      },
      "source": [
        "# **Есть ли существенная связь между географическим регионом и успехом кампании?**"
      ]
    },
    {
      "cell_type": "markdown",
      "metadata": {
        "id": "vfo15G45TMHe"
      },
      "source": [
        "Мы будем использовать критерий хи-квадрат, чтобы определить связь между двумя категориальными переменными, страной и acceptcmp. Начнем с определения нулевой и альтернативной гипотез."
      ]
    },
    {
      "cell_type": "markdown",
      "metadata": {
        "id": "XGbVGTzzTMHf"
      },
      "source": [
        "Нулевая гипотеза H0: Две переменные, country и acceptcmp, не зависят друг от друга.\n",
        "\n",
        "Альтернативная гипотеза H1: две переменные связаны друг с другом."
      ]
    },
    {
      "cell_type": "code",
      "execution_count": null,
      "metadata": {
        "id": "29St0uY7TMHf"
      },
      "outputs": [],
      "source": [
        "from scipy.stats import chi2_contingency"
      ]
    },
    {
      "cell_type": "code",
      "execution_count": null,
      "metadata": {
        "id": "KYdVBtAsTMHf"
      },
      "outputs": [],
      "source": [
        "acceptedcmp1 = pd.crosstab(df['country'], df['acceptedcmp1'])"
      ]
    },
    {
      "cell_type": "code",
      "execution_count": null,
      "metadata": {
        "id": "BDteb7ezTMHf"
      },
      "outputs": [],
      "source": [
        "c, p, dof, expected = chi2_contingency(acceptedcmp1)"
      ]
    },
    {
      "cell_type": "code",
      "execution_count": null,
      "metadata": {
        "id": "p675hSgRTMHg",
        "colab": {
          "base_uri": "https://localhost:8080/"
        },
        "outputId": "d3d67cac-19ae-4d37-e20c-0c57aff205aa"
      },
      "outputs": [
        {
          "output_type": "execute_result",
          "data": {
            "text/plain": [
              "0.8736949588868972"
            ]
          },
          "metadata": {},
          "execution_count": 81
        }
      ],
      "source": [
        "p"
      ]
    },
    {
      "cell_type": "code",
      "execution_count": null,
      "metadata": {
        "id": "JIiytX0ITMHg"
      },
      "outputs": [],
      "source": [
        "acceptedcmp2 = pd.crosstab(df['country'], df['acceptedcmp2'])"
      ]
    },
    {
      "cell_type": "code",
      "execution_count": null,
      "metadata": {
        "id": "jJ6yPQ7eTMHg"
      },
      "outputs": [],
      "source": [
        "c, p, dof, expected = chi2_contingency(acceptedcmp2)"
      ]
    },
    {
      "cell_type": "code",
      "execution_count": null,
      "metadata": {
        "id": "1zz9cOqiTMHg"
      },
      "outputs": [],
      "source": [
        "p"
      ]
    },
    {
      "cell_type": "code",
      "execution_count": null,
      "metadata": {
        "id": "EFcPt54TTMHh"
      },
      "outputs": [],
      "source": [
        "acceptedcmp3 = pd.crosstab(df['country'], df['acceptedcmp3'])"
      ]
    },
    {
      "cell_type": "code",
      "execution_count": null,
      "metadata": {
        "id": "LUShA3l7TMHh"
      },
      "outputs": [],
      "source": [
        "c, p, dof, expected = chi2_contingency(acceptedcmp3)"
      ]
    },
    {
      "cell_type": "code",
      "execution_count": null,
      "metadata": {
        "id": "uWx7SMOtTMHh"
      },
      "outputs": [],
      "source": [
        "p"
      ]
    },
    {
      "cell_type": "code",
      "execution_count": null,
      "metadata": {
        "id": "358_ASLRTMHh"
      },
      "outputs": [],
      "source": [
        "acceptedcmp4 = pd.crosstab(df['country'], df['acceptedcmp4'])"
      ]
    },
    {
      "cell_type": "code",
      "execution_count": null,
      "metadata": {
        "id": "_YBoSv3GTMHi"
      },
      "outputs": [],
      "source": [
        "c, p, dof, expected = chi2_contingency(acceptedcmp4)"
      ]
    },
    {
      "cell_type": "code",
      "execution_count": null,
      "metadata": {
        "id": "oH5UfJZBTMHi"
      },
      "outputs": [],
      "source": [
        "p"
      ]
    },
    {
      "cell_type": "code",
      "execution_count": null,
      "metadata": {
        "id": "rE_ZbOqdTMHi"
      },
      "outputs": [],
      "source": [
        "acceptedcmp5 = pd.crosstab(df['country'], df['acceptedcmp5'])"
      ]
    },
    {
      "cell_type": "code",
      "execution_count": null,
      "metadata": {
        "id": "38-GfTyzTMHj"
      },
      "outputs": [],
      "source": [
        "c, p, dof, expected = chi2_contingency(acceptedcmp5)"
      ]
    },
    {
      "cell_type": "code",
      "execution_count": null,
      "metadata": {
        "id": "a5nLpbKVTMHj"
      },
      "outputs": [],
      "source": [
        "p"
      ]
    },
    {
      "cell_type": "code",
      "execution_count": null,
      "metadata": {
        "id": "18zj434TTMHj"
      },
      "outputs": [],
      "source": [
        "acceptedcmp6 = pd.crosstab(df['country'], df['acceptedcmp6'])"
      ]
    },
    {
      "cell_type": "code",
      "execution_count": null,
      "metadata": {
        "id": "NGM-AQOoTMHj"
      },
      "outputs": [],
      "source": [
        "c, p, dof, expected = chi2_contingency(acceptedcmp6)"
      ]
    },
    {
      "cell_type": "code",
      "execution_count": null,
      "metadata": {
        "id": "3oHsD9OUTMHk"
      },
      "outputs": [],
      "source": [
        "p"
      ]
    },
    {
      "cell_type": "markdown",
      "metadata": {
        "id": "AZw7EuYGTMHk"
      },
      "source": [
        "Результаты показывают, что между географическими регионами и успехом кампании нет существенной связи, при этом p-значение для всех стран во всех маркетинговых кампаниях превышает 0,05. Это указывает на недостаточность доказательств, чтобы отвергнуть нулевую гипотезу о том, что географические регионы не имеют отношения к успеху маркетинговой кампании.\n",
        "\n",
        "Мы можем дополнительно проверить это, построив график уровня принятия кампании в разных странах."
      ]
    },
    {
      "cell_type": "code",
      "execution_count": null,
      "metadata": {
        "id": "KFx0YKstTMHk"
      },
      "outputs": [],
      "source": [
        "acceptedcmp_by_country = df.groupby('country').agg(acceptedcmp1 = ('acceptedcmp1', 'mean'), \n",
        "                                                   acceptedcmp2 = ('acceptedcmp2', 'mean'),\n",
        "                                                   acceptedcmp3 = ('acceptedcmp3', 'mean'),\n",
        "                                                   acceptedcmp4 = ('acceptedcmp4', 'mean'),\n",
        "                                                   acceptedcmp5 = ('acceptedcmp5', 'mean'),\n",
        "                                                   acceptedcmp6 = ('acceptedcmp6', 'mean')).reset_index()"
      ]
    },
    {
      "cell_type": "code",
      "execution_count": null,
      "metadata": {
        "id": "FGpf9eSgTMHl"
      },
      "outputs": [],
      "source": [
        "acceptedcmp_by_country"
      ]
    },
    {
      "cell_type": "code",
      "execution_count": null,
      "metadata": {
        "id": "hro62XUmTMHl"
      },
      "outputs": [],
      "source": [
        "acceptedcmp_by_country = pd.melt(acceptedcmp_by_country.reset_index(), id_vars = 'country', value_vars = ['acceptedcmp1', 'acceptedcmp2', 'acceptedcmp3', 'acceptedcmp4', 'acceptedcmp5', 'acceptedcmp6'])"
      ]
    },
    {
      "cell_type": "code",
      "execution_count": null,
      "metadata": {
        "id": "WKtF6MayTMHl"
      },
      "outputs": [],
      "source": [
        "fig = px.histogram(acceptedcmp_by_country, x = 'country', y = 'value', color = 'variable', barmode = 'group')\n",
        "\n",
        "fig.update_layout(title_text = 'Acceptance rate of marketing campaigns across countries', title_x = 0.5)\n",
        "\n",
        "fig.update_layout(xaxis_title = 'Country')\n",
        "fig.update_layout(yaxis_title = 'Accepted (%)')\n",
        "\n",
        "fig.update_layout(legend = {'title_text': ''})\n",
        "\n",
        "gitly.show(fig)"
      ]
    },
    {
      "cell_type": "markdown",
      "metadata": {
        "id": "OY1n0BuYTMHm"
      },
      "source": [
        "Из приведенной выше диаграммы видно, что уровень одобрения (%) каждой кампании в разных странах, как правило, довольно низок и довольно одинаков. Таким образом, это имеет смысл и еще раз подтверждает наш вывод о том, что «страна» не является важной характеристикой для прогнозирования успеха кампании.\n",
        "\n",
        "Обратите внимание, что набор данных содержит только 3 точки данных о клиентах для Мексики, поэтому уровень одобрения кажется высоким (т. Е. Если 1 клиент принимает кампанию, показатель успеха уже будет на уровне 33%)."
      ]
    },
    {
      "cell_type": "markdown",
      "metadata": {
        "id": "Ap87R-XZTMHo"
      },
      "source": [
        "# **1. Какая маркетинговая кампания наиболее успешна?**"
      ]
    },
    {
      "cell_type": "code",
      "execution_count": null,
      "metadata": {
        "id": "TLvhh26ZyvDO"
      },
      "outputs": [],
      "source": [
        "accepted_cmp = pd.DataFrame(df[['acceptedcmp1', \n",
        "                                'acceptedcmp2', \n",
        "                                'acceptedcmp3', \n",
        "                                'acceptedcmp4', \n",
        "                                'acceptedcmp5', \n",
        "                                'acceptedcmp6']].mean() * 100, columns = ['accepted_(%)']).sort_values(by = 'accepted_(%)', ascending = False).reset_index()"
      ]
    },
    {
      "cell_type": "code",
      "execution_count": null,
      "metadata": {
        "id": "sPFThXYJSrPV"
      },
      "outputs": [],
      "source": [
        "accepted_cmp.reset_index(inplace = True)"
      ]
    },
    {
      "cell_type": "code",
      "execution_count": null,
      "metadata": {
        "id": "huZx6JKMTq1O"
      },
      "outputs": [],
      "source": [
        "accepted_cmp = accepted_cmp.rename(columns = {'index': 'marketing_campaign', 'level_0': 'index'})"
      ]
    },
    {
      "cell_type": "code",
      "execution_count": null,
      "metadata": {
        "id": "4vVHE_H9TROt"
      },
      "outputs": [],
      "source": [
        "accepted_cmp.set_index('index', inplace = True)"
      ]
    },
    {
      "cell_type": "code",
      "execution_count": null,
      "metadata": {
        "id": "5OlZaQYZTMHs"
      },
      "outputs": [],
      "source": [
        "fig = px.bar(accepted_cmp, x = 'marketing_campaign', y = 'accepted_(%)')\n",
        "\n",
        "fig.update_layout(title_text = 'Acceptance rates of each marketing campaign', title_x = 0.5)\n",
        "\n",
        "fig.update_layout(xaxis_title = 'Marketing campaign')\n",
        "fig.update_layout(yaxis_title = 'Accepted (%)')\n",
        "\n",
        "gitly.show(fig)"
      ]
    },
    {
      "cell_type": "markdown",
      "metadata": {
        "id": "ZU_PgxthTMHt"
      },
      "source": [
        "Основываясь на приведенной выше диаграмме, мы можем сделать вывод, что самая последняя кампания является самой успешной."
      ]
    },
    {
      "cell_type": "markdown",
      "metadata": {
        "id": "pHUmMYgDTMHu"
      },
      "source": [
        "# **2. Как выглядит средний клиент этой компании?**"
      ]
    },
    {
      "cell_type": "markdown",
      "metadata": {
        "id": "YWgDYzy3TMHv"
      },
      "source": [
        "**2.1 Categorical features**"
      ]
    },
    {
      "cell_type": "markdown",
      "metadata": {
        "id": "dZeMMP9eTMHw"
      },
      "source": [
        "**2.1.1 Education**"
      ]
    },
    {
      "cell_type": "code",
      "execution_count": null,
      "metadata": {
        "id": "SaPBJbFRTMHw"
      },
      "outputs": [],
      "source": [
        "education = df.groupby('education').agg(count = ('education', 'count'))"
      ]
    },
    {
      "cell_type": "code",
      "execution_count": null,
      "metadata": {
        "id": "G7_oeRJGTMHw"
      },
      "outputs": [],
      "source": [
        "education.assign(education = education.index.get_level_values('education'))"
      ]
    },
    {
      "cell_type": "code",
      "execution_count": null,
      "metadata": {
        "id": "NMovF9ooTMHx"
      },
      "outputs": [],
      "source": [
        "education.reset_index(inplace = True)"
      ]
    },
    {
      "cell_type": "code",
      "execution_count": null,
      "metadata": {
        "id": "5EpMpRtgTMHx"
      },
      "outputs": [],
      "source": [
        "fig = px.pie(education, values = 'count', names = 'education')\n",
        "\n",
        "gitly.show(fig)"
      ]
    },
    {
      "cell_type": "markdown",
      "metadata": {
        "id": "WdyT_YSSTMHy"
      },
      "source": [
        "В целом, большинство клиентов имеют высшее образование (50,4%)."
      ]
    },
    {
      "cell_type": "markdown",
      "metadata": {
        "id": "sGTShpT9TMHy"
      },
      "source": [
        "**2.1.2 Семейный стату**"
      ]
    },
    {
      "cell_type": "code",
      "execution_count": null,
      "metadata": {
        "id": "dI26gnruTMHy"
      },
      "outputs": [],
      "source": [
        "marital_status = df.groupby('marital_status').agg(count = ('marital_status', 'count'))"
      ]
    },
    {
      "cell_type": "code",
      "execution_count": null,
      "metadata": {
        "id": "U4EbFPpRTMH0"
      },
      "outputs": [],
      "source": [
        "marital_status.assign(marital_status = marital_status.index.get_level_values('marital_status'))"
      ]
    },
    {
      "cell_type": "code",
      "execution_count": null,
      "metadata": {
        "id": "zgaCX0OQTMH0"
      },
      "outputs": [],
      "source": [
        "marital_status.reset_index(inplace = True)"
      ]
    },
    {
      "cell_type": "code",
      "execution_count": null,
      "metadata": {
        "id": "JfzeaaYwTMH0"
      },
      "outputs": [],
      "source": [
        "fig = px.pie(marital_status, values = 'count', names = 'marital_status')\n",
        "\n",
        "gitly.show(fig)"
      ]
    },
    {
      "cell_type": "markdown",
      "metadata": {
        "id": "EYoRnKjSTMH1"
      },
      "source": [
        "Почти 40% клиентов состоят в браке, 25,8% живут вместе, а 21,7% не замужем."
      ]
    },
    {
      "cell_type": "markdown",
      "metadata": {
        "id": "omatXcJgTMH1"
      },
      "source": [
        "**2.1.3 Country**"
      ]
    },
    {
      "cell_type": "code",
      "execution_count": null,
      "metadata": {
        "id": "QhCDIq2JTMH1"
      },
      "outputs": [],
      "source": [
        "country = df.groupby('country').agg(count = ('country', 'count'))"
      ]
    },
    {
      "cell_type": "code",
      "execution_count": null,
      "metadata": {
        "id": "muts0CZYTMH2"
      },
      "outputs": [],
      "source": [
        "country.assign(country = country.index.get_level_values('country'))"
      ]
    },
    {
      "cell_type": "code",
      "execution_count": null,
      "metadata": {
        "id": "SOcs2P4TTMH2"
      },
      "outputs": [],
      "source": [
        "country.reset_index(inplace = True)"
      ]
    },
    {
      "cell_type": "code",
      "execution_count": null,
      "metadata": {
        "id": "DgEjFR58TMH2"
      },
      "outputs": [],
      "source": [
        "fig = px.pie(country, values = 'count', names = 'country')\n",
        "\n",
        "gitly.show(fig)"
      ]
    },
    {
      "cell_type": "markdown",
      "metadata": {
        "id": "DDrHvz-VTMH2"
      },
      "source": [
        "Почти половина клиентов из Испании. Следующим по величине пулом клиентов является ЮАР (Южная Африка) с 15%, затем следует третья СА (Канада) с 12%."
      ]
    },
    {
      "cell_type": "markdown",
      "metadata": {
        "id": "W7xMlBxaTMH3"
      },
      "source": [
        "**2.1.4 Dependents**"
      ]
    },
    {
      "cell_type": "code",
      "execution_count": null,
      "metadata": {
        "id": "gt1T6RMrTMH3"
      },
      "outputs": [],
      "source": [
        "dependents = df[['kidhome', 'teenhome']].value_counts().reset_index()"
      ]
    },
    {
      "cell_type": "code",
      "execution_count": null,
      "metadata": {
        "id": "RpABaIDDTMH4"
      },
      "outputs": [],
      "source": [
        "dependents['index'] = np.arange(1, dependents.shape[0] + 1)"
      ]
    },
    {
      "cell_type": "code",
      "execution_count": null,
      "metadata": {
        "id": "WEKqCCxfTMH4"
      },
      "outputs": [],
      "source": [
        "dependents = dependents.set_index('index')"
      ]
    },
    {
      "cell_type": "code",
      "execution_count": null,
      "metadata": {
        "id": "UdeMMVC4TMH5"
      },
      "outputs": [],
      "source": [
        "dependents['kidhome'] = dependents['kidhome'].astype('string') + 'kid' "
      ]
    },
    {
      "cell_type": "code",
      "execution_count": null,
      "metadata": {
        "id": "efM3yjK2TMH5"
      },
      "outputs": [],
      "source": [
        "dependents['kidhome'] = dependents['kidhome'].replace(to_replace = r'(kid)', value = r' \\1', regex = True)"
      ]
    },
    {
      "cell_type": "code",
      "execution_count": null,
      "metadata": {
        "id": "SVV2--8aTMH5"
      },
      "outputs": [],
      "source": [
        "dependents['teenhome'] = dependents['teenhome'].astype('string') + 'teen' "
      ]
    },
    {
      "cell_type": "code",
      "execution_count": null,
      "metadata": {
        "id": "qFGiWTqnTMH6"
      },
      "outputs": [],
      "source": [
        "dependents['teenhome'] = dependents['teenhome'].replace(to_replace = r'(teen)', value = r' \\1', regex = True)"
      ]
    },
    {
      "cell_type": "code",
      "execution_count": null,
      "metadata": {
        "id": "U9zcYhPaTMH6"
      },
      "outputs": [],
      "source": [
        "dependents['dependenthome'] = dependents['kidhome']  + ' & ' + dependents['teenhome']"
      ]
    },
    {
      "cell_type": "code",
      "execution_count": null,
      "metadata": {
        "id": "9JrQehMXTMH6"
      },
      "outputs": [],
      "source": [
        "dependents = dependents.rename(columns = {0: 'count'})"
      ]
    },
    {
      "cell_type": "code",
      "execution_count": null,
      "metadata": {
        "id": "ALnTV6D4TMH7"
      },
      "outputs": [],
      "source": [
        "fig = px.pie(dependents, values = 'count', names = 'dependenthome')\n",
        "\n",
        "gitly.show(fig)"
      ]
    },
    {
      "cell_type": "markdown",
      "metadata": {
        "id": "LP56fBZqTMH7"
      },
      "source": [
        "* Только у 28,5% клиентов нет детей (хотя бы ребенок или подросток в семье).\n",
        "\n",
        "* 71,5% клиентов имеют в семье хотя бы 1 ребенка или 1 подростка."
      ]
    },
    {
      "cell_type": "markdown",
      "metadata": {
        "id": "avoXkL6ITMH7"
      },
      "source": [
        "**2.2 Numerical features**"
      ]
    },
    {
      "cell_type": "code",
      "execution_count": null,
      "metadata": {
        "id": "TMviSUJlyvDP"
      },
      "outputs": [],
      "source": [
        "numerical_features = pd.DataFrame((df[['age', 'income']].mean()))"
      ]
    },
    {
      "cell_type": "code",
      "execution_count": null,
      "metadata": {
        "id": "nP4gSUibTMH8"
      },
      "outputs": [],
      "source": [
        "numerical_features = numerical_features.rename(columns = {0: 'numerical_feature'})"
      ]
    },
    {
      "cell_type": "code",
      "execution_count": null,
      "metadata": {
        "id": "HDfT0VRSTMH8"
      },
      "outputs": [],
      "source": [
        "numerical_features"
      ]
    },
    {
      "cell_type": "markdown",
      "metadata": {
        "id": "eNLHLoSrTMH9"
      },
      "source": [
        "Средний покупатель...\n",
        "\n",
        "* 53 года\n",
        "* из Испании\n",
        "* высшее образование\n",
        "* зарабатывает около 52 000 долларов США\n",
        "* состоит в отношениях, т.е. состоит в браке или вместе\n",
        "* имеет по крайней мере ребенка (ребенка или подростка)"
      ]
    }
  ],
  "metadata": {
    "colab": {
      "collapsed_sections": [],
      "provenance": [],
      "include_colab_link": true
    },
    "kernelspec": {
      "display_name": "Python 3",
      "language": "python",
      "name": "python3"
    },
    "language_info": {
      "codemirror_mode": {
        "name": "ipython",
        "version": 3
      },
      "file_extension": ".py",
      "mimetype": "text/x-python",
      "name": "python",
      "nbconvert_exporter": "python",
      "pygments_lexer": "ipython3",
      "version": "3.7.12"
    }
  },
  "nbformat": 4,
  "nbformat_minor": 0
}
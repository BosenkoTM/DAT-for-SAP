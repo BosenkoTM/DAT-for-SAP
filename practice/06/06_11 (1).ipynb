{
  "nbformat": 4,
  "nbformat_minor": 0,
  "metadata": {
    "kernelspec": {
      "display_name": "Python 3",
      "language": "python",
      "name": "python3"
    },
    "language_info": {
      "codemirror_mode": {
        "name": "ipython",
        "version": 3
      },
      "file_extension": ".py",
      "mimetype": "text/x-python",
      "name": "python",
      "nbconvert_exporter": "python",
      "pygments_lexer": "ipython3",
      "version": "3.6.6"
    },
    "colab": {
      "provenance": []
    }
  },
  "cells": [
    {
      "cell_type": "markdown",
      "source": [
        "# Скачивание наборов данных Kaggle"
      ],
      "metadata": {
        "id": "UFRwOAMz1vFO"
      }
    },
    {
      "cell_type": "markdown",
      "source": [
        "Дополнительная информация по работе с [Kaggle API](https://github.com/Kaggle/kaggle-api)"
      ],
      "metadata": {
        "id": "7unPay4x6FGa"
      }
    },
    {
      "cell_type": "markdown",
      "source": [
        "1. **Создайте ключ `API` в `Kaggle`**.\n",
        "\n",
        "Моя учетная запись -> Settings-> API -> Создать новые токены API.\n",
        "\n",
        "На ваш компьютер будет загружен файл `kaggle.json`. Вы можете загрузить на `Google` Диск вручную или использовать для загрузки приведенный ниже скрипт.\n",
        "\n",
        "Если вы хотите использовать скрипт для загрузки файла `kaggle.json`, используйте следующий фрагмент в ячейке кода:"
      ],
      "metadata": {
        "id": "XGfsgSQ41xom"
      }
    },
    {
      "cell_type": "code",
      "source": [
        "from google.colab import files\n",
        "files.upload()"
      ],
      "metadata": {
        "id": "a8No3BpO4Kbb"
      },
      "execution_count": null,
      "outputs": []
    },
    {
      "cell_type": "markdown",
      "source": [
        "Установите `Kaggle API`, используя"
      ],
      "metadata": {
        "id": "VoQ4O8-k4cq1"
      }
    },
    {
      "cell_type": "code",
      "source": [
        "!pip install -q kaggle"
      ],
      "metadata": {
        "id": "TSW-35ke4b7s"
      },
      "execution_count": 2,
      "outputs": []
    },
    {
      "cell_type": "markdown",
      "source": [
        "Переместите файл `kaggle.json` в **~/.kaggle**, где клиент `API` ожидает расположения вашего токена:"
      ],
      "metadata": {
        "id": "aAgEhgCn4vrr"
      }
    },
    {
      "cell_type": "code",
      "source": [
        "!mkdir -p ~/.kaggle\n",
        "!cp kaggle.json ~/.kaggle/"
      ],
      "metadata": {
        "id": "vuEA3BH042LK"
      },
      "execution_count": 3,
      "outputs": []
    },
    {
      "cell_type": "markdown",
      "source": [
        "Предоставьте разрешения на изменение, чтобы избежать предупреждения при запуске инструмента `Kaggle`."
      ],
      "metadata": {
        "id": "RQwMA_tP48Ry"
      }
    },
    {
      "cell_type": "code",
      "source": [
        "!chmod 600 ~/.kaggle/kaggle.json"
      ],
      "metadata": {
        "id": "4rKmT3cy5Ce6"
      },
      "execution_count": 4,
      "outputs": []
    },
    {
      "cell_type": "markdown",
      "source": [
        "Теперь вы можете получить доступ к наборам данных с помощью клиента"
      ],
      "metadata": {
        "id": "429vMO_Z5x3T"
      }
    },
    {
      "cell_type": "code",
      "source": [
        "!kaggle datasets list"
      ],
      "metadata": {
        "id": "U2XF9z2y5nrL"
      },
      "execution_count": null,
      "outputs": []
    },
    {
      "cell_type": "code",
      "source": [
        "import kaggle\n",
        "\n",
        "# List of all datasets available on Kaggle\n",
        "kaggle.api.dataset_list()"
      ],
      "metadata": {
        "id": "UP4gPG1F6456"
      },
      "execution_count": null,
      "outputs": []
    },
    {
      "cell_type": "code",
      "source": [
        "# поиск наборов данных на Kaggle о \"\"ключевое слово\"\"\"\n",
        "datasets = kaggle.api.datasets_list(search=\"economy\")\n",
        "\n",
        "print(datasets)"
      ],
      "metadata": {
        "id": "HjpilRbx66tR",
        "colab": {
          "base_uri": "https://localhost:8080/"
        },
        "outputId": "d7694c24-c8bc-4589-fc9a-a94018b922b6"
      },
      "execution_count": 7,
      "outputs": [
        {
          "output_type": "stream",
          "name": "stdout",
          "text": [
            "[{'subtitleNullable': 'Emphasis on Poverty Alleviation and Economic Growth', 'creatorNameNullable': 'Shashwat Tiwari', 'creatorUrlNullable': 'shashwatwork', 'totalBytesNullable': 1180673, 'urlNullable': 'https://www.kaggle.com/datasets/shashwatwork/impact-of-covid19-pandemic-on-the-global-economy', 'licenseNameNullable': 'Attribution 4.0 International (CC BY 4.0)', 'descriptionNullable': None, 'ownerNameNullable': 'Shashwat Tiwari', 'ownerRefNullable': 'shashwatwork', 'titleNullable': 'Impact of Covid-19 Pandemic on the Global Economy', 'currentVersionNumberNullable': 1, 'usabilityRatingNullable': 0.9411765, 'id': 1005336, 'ref': 'shashwatwork/impact-of-covid19-pandemic-on-the-global-economy', 'subtitle': 'Emphasis on Poverty Alleviation and Economic Growth', 'hasSubtitle': True, 'creatorName': 'Shashwat Tiwari', 'hasCreatorName': True, 'creatorUrl': 'shashwatwork', 'hasCreatorUrl': True, 'totalBytes': 1180673, 'hasTotalBytes': True, 'url': 'https://www.kaggle.com/datasets/shashwatwork/impact-of-covid19-pandemic-on-the-global-economy', 'hasUrl': True, 'lastUpdated': '2020-11-29T14:16:30.137Z', 'downloadCount': 14315, 'isPrivate': False, 'isFeatured': False, 'licenseName': 'Attribution 4.0 International (CC BY 4.0)', 'hasLicenseName': True, 'description': '', 'hasDescription': False, 'ownerName': 'Shashwat Tiwari', 'hasOwnerName': True, 'ownerRef': 'shashwatwork', 'hasOwnerRef': True, 'kernelCount': 35, 'title': 'Impact of Covid-19 Pandemic on the Global Economy', 'hasTitle': True, 'topicCount': 0, 'viewCount': 92098, 'voteCount': 221, 'currentVersionNumber': 1, 'hasCurrentVersionNumber': True, 'usabilityRating': 0.9411765, 'hasUsabilityRating': True, 'tags': [{'nameNullable': 'business', 'descriptionNullable': 'Businesses are organizational entities that drive economic activity. Explore the inner workings of things like HR practices, product sales, and customer happiness in these competitions, kernels, and datasets.', 'fullPathNullable': 'subject > people and society > business', 'ref': 'business', 'name': 'business', 'hasName': True, 'description': 'Businesses are organizational entities that drive economic activity. Explore the inner workings of things like HR practices, product sales, and customer happiness in these competitions, kernels, and datasets.', 'hasDescription': True, 'fullPath': 'subject > people and society > business', 'hasFullPath': True, 'competitionCount': 14, 'datasetCount': 53544, 'scriptCount': 25229, 'totalCount': 78787}, {'nameNullable': 'covid19', 'descriptionNullable': 'COVID-19 is a disease that is caused by the SARS-CoV-2 virus. In 2020 there was a global COVID-19 pandemic.', 'fullPathNullable': 'subject > health and fitness > health > health conditions > diseases > covid19', 'ref': 'covid19', 'name': 'covid19', 'hasName': True, 'description': 'COVID-19 is a disease that is caused by the SARS-CoV-2 virus. In 2020 there was a global COVID-19 pandemic.', 'hasDescription': True, 'fullPath': 'subject > health and fitness > health > health conditions > diseases > covid19', 'hasFullPath': True, 'competitionCount': 9, 'datasetCount': 1827, 'scriptCount': 2511, 'totalCount': 4347}], 'files': [], 'versions': []}, {'subtitleNullable': 'Which makes and models have the highest city and highway MPG?', 'creatorNameNullable': 'Abigail Larion', 'creatorUrlNullable': 'abigaillarion', 'totalBytesNullable': 1158110, 'urlNullable': 'https://www.kaggle.com/datasets/epa/fuel-economy', 'licenseNameNullable': 'CC0: Public Domain', 'descriptionNullable': None, 'ownerNameNullable': 'US Environmental Protection Agency', 'ownerRefNullable': 'epa', 'titleNullable': 'Vehicle Fuel Economy Estimates, 1984-2017', 'currentVersionNumberNullable': 1, 'usabilityRatingNullable': 0.85294116, 'id': 751, 'ref': 'epa/fuel-economy', 'subtitle': 'Which makes and models have the highest city and highway MPG?', 'hasSubtitle': True, 'creatorName': 'Abigail Larion', 'hasCreatorName': True, 'creatorUrl': 'abigaillarion', 'hasCreatorUrl': True, 'totalBytes': 1158110, 'hasTotalBytes': True, 'url': 'https://www.kaggle.com/datasets/epa/fuel-economy', 'hasUrl': True, 'lastUpdated': '2017-01-31T14:55:34.57Z', 'downloadCount': 3937, 'isPrivate': False, 'isFeatured': False, 'licenseName': 'CC0: Public Domain', 'hasLicenseName': True, 'description': '', 'hasDescription': False, 'ownerName': 'US Environmental Protection Agency', 'hasOwnerName': True, 'ownerRef': 'epa', 'hasOwnerRef': True, 'kernelCount': 16, 'title': 'Vehicle Fuel Economy Estimates, 1984-2017', 'hasTitle': True, 'topicCount': 0, 'viewCount': 39997, 'voteCount': 68, 'currentVersionNumber': 1, 'hasCurrentVersionNumber': True, 'usabilityRating': 0.85294116, 'hasUsabilityRating': True, 'tags': [{'nameNullable': 'business', 'descriptionNullable': 'Businesses are organizational entities that drive economic activity. Explore the inner workings of things like HR practices, product sales, and customer happiness in these competitions, kernels, and datasets.', 'fullPathNullable': 'subject > people and society > business', 'ref': 'business', 'name': 'business', 'hasName': True, 'description': 'Businesses are organizational entities that drive economic activity. Explore the inner workings of things like HR practices, product sales, and customer happiness in these competitions, kernels, and datasets.', 'hasDescription': True, 'fullPath': 'subject > people and society > business', 'hasFullPath': True, 'competitionCount': 14, 'datasetCount': 53544, 'scriptCount': 25229, 'totalCount': 78787}, {'nameNullable': 'automobiles and vehicles', 'descriptionNullable': 'The automobile tag is everything about cars. Analyze insurance rates or how far you can go on one gallon of petrol.', 'fullPathNullable': 'subject > science and technology > transportation > automobiles and vehicles', 'ref': 'automobiles and vehicles', 'name': 'automobiles and vehicles', 'hasName': True, 'description': 'The automobile tag is everything about cars. Analyze insurance rates or how far you can go on one gallon of petrol.', 'hasDescription': True, 'fullPath': 'subject > science and technology > transportation > automobiles and vehicles', 'hasFullPath': True, 'competitionCount': 5, 'datasetCount': 6968, 'scriptCount': 1686, 'totalCount': 8659}], 'files': [], 'versions': []}, {'subtitleNullable': 'Administration, Urban environment, Population, Territory, Economy and Business', 'creatorNameNullable': 'Xavier', 'creatorUrlNullable': 'xvivancos', 'totalBytesNullable': 1150022, 'urlNullable': 'https://www.kaggle.com/datasets/xvivancos/barcelona-data-sets', 'licenseNameNullable': 'Attribution 4.0 International (CC BY 4.0)', 'descriptionNullable': None, 'ownerNameNullable': 'Xavier', 'ownerRefNullable': 'xvivancos', 'titleNullable': 'Barcelona data sets', 'currentVersionNumberNullable': 8, 'usabilityRatingNullable': 1.0, 'id': 71509, 'ref': 'xvivancos/barcelona-data-sets', 'subtitle': 'Administration, Urban environment, Population, Territory, Economy and Business', 'hasSubtitle': True, 'creatorName': 'Xavier', 'hasCreatorName': True, 'creatorUrl': 'xvivancos', 'hasCreatorUrl': True, 'totalBytes': 1150022, 'hasTotalBytes': True, 'url': 'https://www.kaggle.com/datasets/xvivancos/barcelona-data-sets', 'hasUrl': True, 'lastUpdated': '2020-02-15T23:29:29.537Z', 'downloadCount': 17512, 'isPrivate': False, 'isFeatured': False, 'licenseName': 'Attribution 4.0 International (CC BY 4.0)', 'hasLicenseName': True, 'description': '', 'hasDescription': False, 'ownerName': 'Xavier', 'hasOwnerName': True, 'ownerRef': 'xvivancos', 'hasOwnerRef': True, 'kernelCount': 48, 'title': 'Barcelona data sets', 'hasTitle': True, 'topicCount': 0, 'viewCount': 142161, 'voteCount': 363, 'currentVersionNumber': 8, 'hasCurrentVersionNumber': True, 'usabilityRating': 1.0, 'hasUsabilityRating': True, 'tags': [{'nameNullable': 'business', 'descriptionNullable': 'Businesses are organizational entities that drive economic activity. Explore the inner workings of things like HR practices, product sales, and customer happiness in these competitions, kernels, and datasets.', 'fullPathNullable': 'subject > people and society > business', 'ref': 'business', 'name': 'business', 'hasName': True, 'description': 'Businesses are organizational entities that drive economic activity. Explore the inner workings of things like HR practices, product sales, and customer happiness in these competitions, kernels, and datasets.', 'hasDescription': True, 'fullPath': 'subject > people and society > business', 'hasFullPath': True, 'competitionCount': 14, 'datasetCount': 53544, 'scriptCount': 25229, 'totalCount': 78787}, {'nameNullable': 'demographics', 'descriptionNullable': 'Demographics cover different aspects of life: youth, religion, housing, employment, taxes and mortality. This tag contains census data that describe various populations and communities.', 'fullPathNullable': 'subject > people and society > social science > demographics', 'ref': 'demographics', 'name': 'demographics', 'hasName': True, 'description': 'Demographics cover different aspects of life: youth, religion, housing, employment, taxes and mortality. This tag contains census data that describe various populations and communities.', 'hasDescription': True, 'fullPath': 'subject > people and society > social science > demographics', 'hasFullPath': True, 'competitionCount': 1, 'datasetCount': 773, 'scriptCount': 269, 'totalCount': 1043}, {'nameNullable': 'economics', 'descriptionNullable': 'The economics tag contains resources for analyzing the production, consumption, and transfer of wealth.', 'fullPathNullable': 'subject > people and society > social science > economics', 'ref': 'economics', 'name': 'economics', 'hasName': True, 'description': 'The economics tag contains resources for analyzing the production, consumption, and transfer of wealth.', 'hasDescription': True, 'fullPath': 'subject > people and society > social science > economics', 'hasFullPath': True, 'competitionCount': 0, 'datasetCount': 2734, 'scriptCount': 642, 'totalCount': 3376}, {'nameNullable': 'internet', 'descriptionNullable': 'An interconnected network of tubes that connects the entire world together. This tag covers a broad range of tags; anything from cryptocurrency to website analytics.', 'fullPathNullable': 'subject > science and technology > internet', 'ref': 'internet', 'name': 'internet', 'hasName': True, 'description': 'An interconnected network of tubes that connects the entire world together. This tag covers a broad range of tags; anything from cryptocurrency to website analytics.', 'hasDescription': True, 'fullPath': 'subject > science and technology > internet', 'hasFullPath': True, 'competitionCount': 19, 'datasetCount': 14355, 'scriptCount': 2214, 'totalCount': 16588}, {'nameNullable': 'exploratory data analysis', 'descriptionNullable': None, 'fullPathNullable': 'technique > exploratory data analysis', 'ref': 'exploratory data analysis', 'name': 'exploratory data analysis', 'hasName': True, 'description': '', 'hasDescription': False, 'fullPath': 'technique > exploratory data analysis', 'hasFullPath': True, 'competitionCount': 2, 'datasetCount': 3234, 'scriptCount': 28404, 'totalCount': 31640}, {'nameNullable': 'data visualization', 'descriptionNullable': 'The art of depicting data in a visual format. Using charts and graphs, it is easier to observe patterns, relationships, and outliers.', 'fullPathNullable': 'technique > data visualization', 'ref': 'data visualization', 'name': 'data visualization', 'hasName': True, 'description': 'The art of depicting data in a visual format. Using charts and graphs, it is easier to observe patterns, relationships, and outliers.', 'hasDescription': True, 'fullPath': 'technique > data visualization', 'hasFullPath': True, 'competitionCount': 3, 'datasetCount': 4431, 'scriptCount': 31572, 'totalCount': 36006}], 'files': [], 'versions': []}, {'subtitleNullable': 'Data containing important indicators since liberalisation and globalisation', 'creatorNameNullable': 'Zoheb Abai', 'creatorUrlNullable': 'zohebabai', 'totalBytesNullable': 7379, 'urlNullable': 'https://www.kaggle.com/datasets/zohebabai/world-bank-data-of-indian-economy-since-1991', 'licenseNameNullable': 'World Bank Dataset Terms of Use', 'descriptionNullable': None, 'ownerNameNullable': 'Zoheb Abai', 'ownerRefNullable': 'zohebabai', 'titleNullable': 'World Bank Data of Indian Economy since 1991', 'currentVersionNumberNullable': 1, 'usabilityRatingNullable': 0.88235295, 'id': 32966, 'ref': 'zohebabai/world-bank-data-of-indian-economy-since-1991', 'subtitle': 'Data containing important indicators since liberalisation and globalisation', 'hasSubtitle': True, 'creatorName': 'Zoheb Abai', 'hasCreatorName': True, 'creatorUrl': 'zohebabai', 'hasCreatorUrl': True, 'totalBytes': 7379, 'hasTotalBytes': True, 'url': 'https://www.kaggle.com/datasets/zohebabai/world-bank-data-of-indian-economy-since-1991', 'hasUrl': True, 'lastUpdated': '2018-06-23T19:34:04.643Z', 'downloadCount': 2737, 'isPrivate': False, 'isFeatured': False, 'licenseName': 'World Bank Dataset Terms of Use', 'hasLicenseName': True, 'description': '', 'hasDescription': False, 'ownerName': 'Zoheb Abai', 'hasOwnerName': True, 'ownerRef': 'zohebabai', 'hasOwnerRef': True, 'kernelCount': 9, 'title': 'World Bank Data of Indian Economy since 1991', 'hasTitle': True, 'topicCount': 0, 'viewCount': 19266, 'voteCount': 52, 'currentVersionNumber': 1, 'hasCurrentVersionNumber': True, 'usabilityRating': 0.88235295, 'hasUsabilityRating': True, 'tags': [{'nameNullable': 'india', 'descriptionNullable': \"This tag will take you to the wonderful land of datasets and kernels related to India. You will find topics that range far and wide. There's education, travel, weather, and crime, too.\", 'fullPathNullable': 'geography and places > asia > india', 'ref': 'india', 'name': 'india', 'hasName': True, 'description': \"This tag will take you to the wonderful land of datasets and kernels related to India. You will find topics that range far and wide. There's education, travel, weather, and crime, too.\", 'hasDescription': True, 'fullPath': 'geography and places > asia > india', 'hasFullPath': True, 'competitionCount': 0, 'datasetCount': 1590, 'scriptCount': 804, 'totalCount': 2394}, {'nameNullable': 'banking', 'descriptionNullable': 'Banks keep the financial system interesting by failing en masse every couple of generations.', 'fullPathNullable': 'subject > people and society > business > finance > banking', 'ref': 'banking', 'name': 'banking', 'hasName': True, 'description': 'Banks keep the financial system interesting by failing en masse every couple of generations.', 'hasDescription': True, 'fullPath': 'subject > people and society > business > finance > banking', 'hasFullPath': True, 'competitionCount': 12, 'datasetCount': 2696, 'scriptCount': 930, 'totalCount': 3638}, {'nameNullable': 'economics', 'descriptionNullable': 'The economics tag contains resources for analyzing the production, consumption, and transfer of wealth.', 'fullPathNullable': 'subject > people and society > social science > economics', 'ref': 'economics', 'name': 'economics', 'hasName': True, 'description': 'The economics tag contains resources for analyzing the production, consumption, and transfer of wealth.', 'hasDescription': True, 'fullPath': 'subject > people and society > social science > economics', 'hasFullPath': True, 'competitionCount': 0, 'datasetCount': 2734, 'scriptCount': 642, 'totalCount': 3376}, {'nameNullable': 'beginner', 'descriptionNullable': 'New to data science? Explore tips, tricks, and beginner friendly work from other Kagglers.', 'fullPathNullable': 'audience > beginner', 'ref': 'beginner', 'name': 'beginner', 'hasName': True, 'description': 'New to data science? Explore tips, tricks, and beginner friendly work from other Kagglers.', 'hasDescription': True, 'fullPath': 'audience > beginner', 'hasFullPath': True, 'competitionCount': 8183, 'datasetCount': 5429, 'scriptCount': 38127, 'totalCount': 51739}, {'nameNullable': 'data visualization', 'descriptionNullable': 'The art of depicting data in a visual format. Using charts and graphs, it is easier to observe patterns, relationships, and outliers.', 'fullPathNullable': 'technique > data visualization', 'ref': 'data visualization', 'name': 'data visualization', 'hasName': True, 'description': 'The art of depicting data in a visual format. Using charts and graphs, it is easier to observe patterns, relationships, and outliers.', 'hasDescription': True, 'fullPath': 'technique > data visualization', 'hasFullPath': True, 'competitionCount': 3, 'datasetCount': 4431, 'scriptCount': 31572, 'totalCount': 36006}, {'nameNullable': 'currencies and foreign exchange', 'descriptionNullable': None, 'fullPathNullable': 'subject > people and society > business > finance > currencies and foreign exchange', 'ref': 'currencies and foreign exchange', 'name': 'currencies and foreign exchange', 'hasName': True, 'description': '', 'hasDescription': False, 'fullPath': 'subject > people and society > business > finance > currencies and foreign exchange', 'hasFullPath': True, 'competitionCount': 1, 'datasetCount': 4097, 'scriptCount': 1947, 'totalCount': 6045}], 'files': [], 'versions': []}, {'subtitleNullable': 'Economic records from 42 European countries.', 'creatorNameNullable': 'Hanzla Nawaz', 'creatorUrlNullable': 'hanzlanawaz', 'totalBytesNullable': 1458, 'urlNullable': 'https://www.kaggle.com/datasets/hanzlanawaz/economy-of-europe-2022', 'licenseNameNullable': 'CC0: Public Domain', 'descriptionNullable': None, 'ownerNameNullable': 'Hanzla Nawaz', 'ownerRefNullable': 'hanzlanawaz', 'titleNullable': 'Economy of Europe_2022', 'currentVersionNumberNullable': 1, 'usabilityRatingNullable': 1.0, 'id': 2544080, 'ref': 'hanzlanawaz/economy-of-europe-2022', 'subtitle': 'Economic records from 42 European countries.', 'hasSubtitle': True, 'creatorName': 'Hanzla Nawaz', 'hasCreatorName': True, 'creatorUrl': 'hanzlanawaz', 'hasCreatorUrl': True, 'totalBytes': 1458, 'hasTotalBytes': True, 'url': 'https://www.kaggle.com/datasets/hanzlanawaz/economy-of-europe-2022', 'hasUrl': True, 'lastUpdated': '2022-10-12T21:34:41.87Z', 'downloadCount': 1282, 'isPrivate': False, 'isFeatured': False, 'licenseName': 'CC0: Public Domain', 'hasLicenseName': True, 'description': '', 'hasDescription': False, 'ownerName': 'Hanzla Nawaz', 'hasOwnerName': True, 'ownerRef': 'hanzlanawaz', 'hasOwnerRef': True, 'kernelCount': 2, 'title': 'Economy of Europe_2022', 'hasTitle': True, 'topicCount': 0, 'viewCount': 7814, 'voteCount': 20, 'currentVersionNumber': 1, 'hasCurrentVersionNumber': True, 'usabilityRating': 1.0, 'hasUsabilityRating': True, 'tags': [{'nameNullable': 'europe', 'descriptionNullable': 'You can find some European linguistic type datasets here as well as other European-like datasets and kernels.', 'fullPathNullable': 'geography and places > europe', 'ref': 'europe', 'name': 'europe', 'hasName': True, 'description': 'You can find some European linguistic type datasets here as well as other European-like datasets and kernels.', 'hasDescription': True, 'fullPath': 'geography and places > europe', 'hasFullPath': True, 'competitionCount': 0, 'datasetCount': 1002, 'scriptCount': 187, 'totalCount': 1189}, {'nameNullable': 'business', 'descriptionNullable': 'Businesses are organizational entities that drive economic activity. Explore the inner workings of things like HR practices, product sales, and customer happiness in these competitions, kernels, and datasets.', 'fullPathNullable': 'subject > people and society > business', 'ref': 'business', 'name': 'business', 'hasName': True, 'description': 'Businesses are organizational entities that drive economic activity. Explore the inner workings of things like HR practices, product sales, and customer happiness in these competitions, kernels, and datasets.', 'hasDescription': True, 'fullPath': 'subject > people and society > business', 'hasFullPath': True, 'competitionCount': 14, 'datasetCount': 53544, 'scriptCount': 25229, 'totalCount': 78787}, {'nameNullable': 'education', 'descriptionNullable': 'Education datasets and kernels relate to statistics on student performance, university rankings, and answers for all your homework questions.', 'fullPathNullable': 'subject > people and society > education', 'ref': 'education', 'name': 'education', 'hasName': True, 'description': 'Education datasets and kernels relate to statistics on student performance, university rankings, and answers for all your homework questions.', 'hasDescription': True, 'fullPath': 'subject > people and society > education', 'hasFullPath': True, 'competitionCount': 11, 'datasetCount': 16979, 'scriptCount': 14652, 'totalCount': 31642}, {'nameNullable': 'demographics', 'descriptionNullable': 'Demographics cover different aspects of life: youth, religion, housing, employment, taxes and mortality. This tag contains census data that describe various populations and communities.', 'fullPathNullable': 'subject > people and society > social science > demographics', 'ref': 'demographics', 'name': 'demographics', 'hasName': True, 'description': 'Demographics cover different aspects of life: youth, religion, housing, employment, taxes and mortality. This tag contains census data that describe various populations and communities.', 'hasDescription': True, 'fullPath': 'subject > people and society > social science > demographics', 'hasFullPath': True, 'competitionCount': 1, 'datasetCount': 773, 'scriptCount': 269, 'totalCount': 1043}, {'nameNullable': 'economics', 'descriptionNullable': 'The economics tag contains resources for analyzing the production, consumption, and transfer of wealth.', 'fullPathNullable': 'subject > people and society > social science > economics', 'ref': 'economics', 'name': 'economics', 'hasName': True, 'description': 'The economics tag contains resources for analyzing the production, consumption, and transfer of wealth.', 'hasDescription': True, 'fullPath': 'subject > people and society > social science > economics', 'hasFullPath': True, 'competitionCount': 0, 'datasetCount': 2734, 'scriptCount': 642, 'totalCount': 3376}, {'nameNullable': 'computer science', 'descriptionNullable': 'There is one thing we can say for sure about computer science: Computer science leads to more computer games which leads to better GPUs which leads to smarter AI.', 'fullPathNullable': 'subject > science and technology > computer science', 'ref': 'computer science', 'name': 'computer science', 'hasName': True, 'description': 'There is one thing we can say for sure about computer science: Computer science leads to more computer games which leads to better GPUs which leads to smarter AI.', 'hasDescription': True, 'fullPath': 'subject > science and technology > computer science', 'hasFullPath': True, 'competitionCount': 4, 'datasetCount': 26097, 'scriptCount': 381, 'totalCount': 26482}], 'files': [], 'versions': []}, {'subtitleNullable': 'Mileage and more for 1948-2018', 'creatorNameNullable': 'Sohier Dane', 'creatorUrlNullable': 'sohier', 'totalBytesNullable': 1707312, 'urlNullable': 'https://www.kaggle.com/datasets/epa/vehicle-fuel-economy', 'licenseNameNullable': 'CC0: Public Domain', 'descriptionNullable': None, 'ownerNameNullable': 'US Environmental Protection Agency', 'ownerRefNullable': 'epa', 'titleNullable': 'Vehicle Fuel Economy', 'currentVersionNumberNullable': 2, 'usabilityRatingNullable': 0.8235294, 'id': 2475, 'ref': 'epa/vehicle-fuel-economy', 'subtitle': 'Mileage and more for 1948-2018', 'hasSubtitle': True, 'creatorName': 'Sohier Dane', 'hasCreatorName': True, 'creatorUrl': 'sohier', 'hasCreatorUrl': True, 'totalBytes': 1707312, 'hasTotalBytes': True, 'url': 'https://www.kaggle.com/datasets/epa/vehicle-fuel-economy', 'hasUrl': True, 'lastUpdated': '2017-09-13T22:13:44.98Z', 'downloadCount': 1591, 'isPrivate': False, 'isFeatured': False, 'licenseName': 'CC0: Public Domain', 'hasLicenseName': True, 'description': '', 'hasDescription': False, 'ownerName': 'US Environmental Protection Agency', 'hasOwnerName': True, 'ownerRef': 'epa', 'hasOwnerRef': True, 'kernelCount': 1, 'title': 'Vehicle Fuel Economy', 'hasTitle': True, 'topicCount': 0, 'viewCount': 18963, 'voteCount': 30, 'currentVersionNumber': 2, 'hasCurrentVersionNumber': True, 'usabilityRating': 0.8235294, 'hasUsabilityRating': True, 'tags': [{'nameNullable': 'biology', 'descriptionNullable': 'Explore datasets and kernels about gene expressions, transcriptomics, and even the works of Charles Darwin.', 'fullPathNullable': 'subject > earth and nature > biology', 'ref': 'biology', 'name': 'biology', 'hasName': True, 'description': 'Explore datasets and kernels about gene expressions, transcriptomics, and even the works of Charles Darwin.', 'hasDescription': True, 'fullPath': 'subject > earth and nature > biology', 'hasFullPath': True, 'competitionCount': 13, 'datasetCount': 7699, 'scriptCount': 4624, 'totalCount': 12336}, {'nameNullable': 'automobiles and vehicles', 'descriptionNullable': 'The automobile tag is everything about cars. Analyze insurance rates or how far you can go on one gallon of petrol.', 'fullPathNullable': 'subject > science and technology > transportation > automobiles and vehicles', 'ref': 'automobiles and vehicles', 'name': 'automobiles and vehicles', 'hasName': True, 'description': 'The automobile tag is everything about cars. Analyze insurance rates or how far you can go on one gallon of petrol.', 'hasDescription': True, 'fullPath': 'subject > science and technology > transportation > automobiles and vehicles', 'hasFullPath': True, 'competitionCount': 5, 'datasetCount': 6968, 'scriptCount': 1686, 'totalCount': 8659}], 'files': [], 'versions': []}, {'subtitleNullable': 'Economy of the United States in 45 Year ', 'creatorNameNullable': 'Raj Kumar Pandey', 'creatorUrlNullable': 'rajkumarpandey02', 'totalBytesNullable': 1402, 'urlNullable': 'https://www.kaggle.com/datasets/rajkumarpandey02/economy-of-the-united-states', 'licenseNameNullable': 'CC0: Public Domain', 'descriptionNullable': None, 'ownerNameNullable': 'Raj Kumar Pandey', 'ownerRefNullable': 'rajkumarpandey02', 'titleNullable': 'Economy of the United States', 'currentVersionNumberNullable': 1, 'usabilityRatingNullable': 1.0, 'id': 3031513, 'ref': 'rajkumarpandey02/economy-of-the-united-states', 'subtitle': 'Economy of the United States in 45 Year ', 'hasSubtitle': True, 'creatorName': 'Raj Kumar Pandey', 'hasCreatorName': True, 'creatorUrl': 'rajkumarpandey02', 'hasCreatorUrl': True, 'totalBytes': 1402, 'hasTotalBytes': True, 'url': 'https://www.kaggle.com/datasets/rajkumarpandey02/economy-of-the-united-states', 'hasUrl': True, 'lastUpdated': '2023-03-22T05:14:07.327Z', 'downloadCount': 1110, 'isPrivate': False, 'isFeatured': False, 'licenseName': 'CC0: Public Domain', 'hasLicenseName': True, 'description': '', 'hasDescription': False, 'ownerName': 'Raj Kumar Pandey', 'hasOwnerName': True, 'ownerRef': 'rajkumarpandey02', 'hasOwnerRef': True, 'kernelCount': 1, 'title': 'Economy of the United States', 'hasTitle': True, 'topicCount': 0, 'viewCount': 6673, 'voteCount': 37, 'currentVersionNumber': 1, 'hasCurrentVersionNumber': True, 'usabilityRating': 1.0, 'hasUsabilityRating': True, 'tags': [{'nameNullable': 'income', 'descriptionNullable': 'This tag contains datasets and kernels related to various incomes and salaries. Explore census-like data that covers city-level income down to individuals.', 'fullPathNullable': 'subject > people and society > jobs and career > income', 'ref': 'income', 'name': 'income', 'hasName': True, 'description': 'This tag contains datasets and kernels related to various incomes and salaries. Explore census-like data that covers city-level income down to individuals.', 'hasDescription': True, 'fullPath': 'subject > people and society > jobs and career > income', 'hasFullPath': True, 'competitionCount': 0, 'datasetCount': 236, 'scriptCount': 142, 'totalCount': 378}, {'nameNullable': 'economics', 'descriptionNullable': 'The economics tag contains resources for analyzing the production, consumption, and transfer of wealth.', 'fullPathNullable': 'subject > people and society > social science > economics', 'ref': 'economics', 'name': 'economics', 'hasName': True, 'description': 'The economics tag contains resources for analyzing the production, consumption, and transfer of wealth.', 'hasDescription': True, 'fullPath': 'subject > people and society > social science > economics', 'hasFullPath': True, 'competitionCount': 0, 'datasetCount': 2734, 'scriptCount': 642, 'totalCount': 3376}, {'nameNullable': 'data visualization', 'descriptionNullable': 'The art of depicting data in a visual format. Using charts and graphs, it is easier to observe patterns, relationships, and outliers.', 'fullPathNullable': 'technique > data visualization', 'ref': 'data visualization', 'name': 'data visualization', 'hasName': True, 'description': 'The art of depicting data in a visual format. Using charts and graphs, it is easier to observe patterns, relationships, and outliers.', 'hasDescription': True, 'fullPath': 'technique > data visualization', 'hasFullPath': True, 'competitionCount': 3, 'datasetCount': 4431, 'scriptCount': 31572, 'totalCount': 36006}, {'nameNullable': 'deep learning', 'descriptionNullable': None, 'fullPathNullable': 'technique > deep learning', 'ref': 'deep learning', 'name': 'deep learning', 'hasName': True, 'description': '', 'hasDescription': False, 'fullPath': 'technique > deep learning', 'hasFullPath': True, 'competitionCount': 4, 'datasetCount': 2653, 'scriptCount': 15366, 'totalCount': 18023}, {'nameNullable': 'pandas', 'descriptionNullable': '', 'fullPathNullable': 'packages > pandas', 'ref': 'pandas', 'name': 'pandas', 'hasName': True, 'description': '', 'hasDescription': True, 'fullPath': 'packages > pandas', 'hasFullPath': True, 'competitionCount': 0, 'datasetCount': 1006, 'scriptCount': 90827, 'totalCount': 91833}], 'files': [], 'versions': []}, {'subtitleNullable': 'Indian Economy 1960-2020', 'creatorNameNullable': 'Nīraj Kaundal', 'creatorUrlNullable': 'nejilee', 'totalBytesNullable': 3018, 'urlNullable': 'https://www.kaggle.com/datasets/nejilee/indian-economy-from-1960-to-2020', 'licenseNameNullable': 'Database: Open Database, Contents: Database Contents', 'descriptionNullable': None, 'ownerNameNullable': 'Nīraj Kaundal', 'ownerRefNullable': 'nejilee', 'titleNullable': 'Indian Economy from 1960 to 2020', 'currentVersionNumberNullable': 2, 'usabilityRatingNullable': 1.0, 'id': 2514561, 'ref': 'nejilee/indian-economy-from-1960-to-2020', 'subtitle': 'Indian Economy 1960-2020', 'hasSubtitle': True, 'creatorName': 'Nīraj Kaundal', 'hasCreatorName': True, 'creatorUrl': 'nejilee', 'hasCreatorUrl': True, 'totalBytes': 3018, 'hasTotalBytes': True, 'url': 'https://www.kaggle.com/datasets/nejilee/indian-economy-from-1960-to-2020', 'hasUrl': True, 'lastUpdated': '2022-10-01T07:47:59.597Z', 'downloadCount': 1801, 'isPrivate': False, 'isFeatured': False, 'licenseName': 'Database: Open Database, Contents: Database Contents', 'hasLicenseName': True, 'description': '', 'hasDescription': False, 'ownerName': 'Nīraj Kaundal', 'hasOwnerName': True, 'ownerRef': 'nejilee', 'hasOwnerRef': True, 'kernelCount': 2, 'title': 'Indian Economy from 1960 to 2020', 'hasTitle': True, 'topicCount': 0, 'viewCount': 8564, 'voteCount': 37, 'currentVersionNumber': 2, 'hasCurrentVersionNumber': True, 'usabilityRating': 1.0, 'hasUsabilityRating': True, 'tags': [{'nameNullable': 'india', 'descriptionNullable': \"This tag will take you to the wonderful land of datasets and kernels related to India. You will find topics that range far and wide. There's education, travel, weather, and crime, too.\", 'fullPathNullable': 'geography and places > asia > india', 'ref': 'india', 'name': 'india', 'hasName': True, 'description': \"This tag will take you to the wonderful land of datasets and kernels related to India. You will find topics that range far and wide. There's education, travel, weather, and crime, too.\", 'hasDescription': True, 'fullPath': 'geography and places > asia > india', 'hasFullPath': True, 'competitionCount': 0, 'datasetCount': 1590, 'scriptCount': 804, 'totalCount': 2394}, {'nameNullable': 'business', 'descriptionNullable': 'Businesses are organizational entities that drive economic activity. Explore the inner workings of things like HR practices, product sales, and customer happiness in these competitions, kernels, and datasets.', 'fullPathNullable': 'subject > people and society > business', 'ref': 'business', 'name': 'business', 'hasName': True, 'description': 'Businesses are organizational entities that drive economic activity. Explore the inner workings of things like HR practices, product sales, and customer happiness in these competitions, kernels, and datasets.', 'hasDescription': True, 'fullPath': 'subject > people and society > business', 'hasFullPath': True, 'competitionCount': 14, 'datasetCount': 53544, 'scriptCount': 25229, 'totalCount': 78787}, {'nameNullable': 'finance', 'descriptionNullable': \"The finance tag covers datasets and kernels about money and investing. If you need to test some new cryptocurrency investment strategies or ward off those pesky credit card fraud enthusiasts, then you've come to the right place.\", 'fullPathNullable': 'subject > people and society > business > finance', 'ref': 'finance', 'name': 'finance', 'hasName': True, 'description': \"The finance tag covers datasets and kernels about money and investing. If you need to test some new cryptocurrency investment strategies or ward off those pesky credit card fraud enthusiasts, then you've come to the right place.\", 'hasDescription': True, 'fullPath': 'subject > people and society > business > finance', 'hasFullPath': True, 'competitionCount': 12, 'datasetCount': 6593, 'scriptCount': 3944, 'totalCount': 10549}, {'nameNullable': 'economics', 'descriptionNullable': 'The economics tag contains resources for analyzing the production, consumption, and transfer of wealth.', 'fullPathNullable': 'subject > people and society > social science > economics', 'ref': 'economics', 'name': 'economics', 'hasName': True, 'description': 'The economics tag contains resources for analyzing the production, consumption, and transfer of wealth.', 'hasDescription': True, 'fullPath': 'subject > people and society > social science > economics', 'hasFullPath': True, 'competitionCount': 0, 'datasetCount': 2734, 'scriptCount': 642, 'totalCount': 3376}, {'nameNullable': 'data analytics', 'descriptionNullable': None, 'fullPathNullable': 'technique > data analytics', 'ref': 'data analytics', 'name': 'data analytics', 'hasName': True, 'description': '', 'hasDescription': False, 'fullPath': 'technique > data analytics', 'hasFullPath': True, 'competitionCount': 10, 'datasetCount': 4480, 'scriptCount': 10546, 'totalCount': 15036}], 'files': [], 'versions': []}, {'subtitleNullable': 'Explaining the ease of doing business rankings ', 'creatorNameNullable': 'Pradeep Narayanan', 'creatorUrlNullable': 'pradeepp', 'totalBytesNullable': 15816, 'urlNullable': 'https://www.kaggle.com/datasets/pradeepp/economy-rankings', 'licenseNameNullable': 'Database: Open Database, Contents: © Original Authors', 'descriptionNullable': None, 'ownerNameNullable': 'Pradeep Narayanan', 'ownerRefNullable': 'pradeepp', 'titleNullable': 'Economy Rankings', 'currentVersionNumberNullable': 1, 'usabilityRatingNullable': 0.7058824, 'id': 7606, 'ref': 'pradeepp/economy-rankings', 'subtitle': 'Explaining the ease of doing business rankings ', 'hasSubtitle': True, 'creatorName': 'Pradeep Narayanan', 'hasCreatorName': True, 'creatorUrl': 'pradeepp', 'hasCreatorUrl': True, 'totalBytes': 15816, 'hasTotalBytes': True, 'url': 'https://www.kaggle.com/datasets/pradeepp/economy-rankings', 'hasUrl': True, 'lastUpdated': '2017-12-21T16:22:30.79Z', 'downloadCount': 749, 'isPrivate': False, 'isFeatured': False, 'licenseName': 'Database: Open Database, Contents: © Original Authors', 'hasLicenseName': True, 'description': '', 'hasDescription': False, 'ownerName': 'Pradeep Narayanan', 'hasOwnerName': True, 'ownerRef': 'pradeepp', 'hasOwnerRef': True, 'kernelCount': 1, 'title': 'Economy Rankings', 'hasTitle': True, 'topicCount': 0, 'viewCount': 6367, 'voteCount': 10, 'currentVersionNumber': 1, 'hasCurrentVersionNumber': True, 'usabilityRating': 0.7058824, 'hasUsabilityRating': True, 'tags': [{'nameNullable': 'business', 'descriptionNullable': 'Businesses are organizational entities that drive economic activity. Explore the inner workings of things like HR practices, product sales, and customer happiness in these competitions, kernels, and datasets.', 'fullPathNullable': 'subject > people and society > business', 'ref': 'business', 'name': 'business', 'hasName': True, 'description': 'Businesses are organizational entities that drive economic activity. Explore the inner workings of things like HR practices, product sales, and customer happiness in these competitions, kernels, and datasets.', 'hasDescription': True, 'fullPath': 'subject > people and society > business', 'hasFullPath': True, 'competitionCount': 14, 'datasetCount': 53544, 'scriptCount': 25229, 'totalCount': 78787}, {'nameNullable': 'finance', 'descriptionNullable': \"The finance tag covers datasets and kernels about money and investing. If you need to test some new cryptocurrency investment strategies or ward off those pesky credit card fraud enthusiasts, then you've come to the right place.\", 'fullPathNullable': 'subject > people and society > business > finance', 'ref': 'finance', 'name': 'finance', 'hasName': True, 'description': \"The finance tag covers datasets and kernels about money and investing. If you need to test some new cryptocurrency investment strategies or ward off those pesky credit card fraud enthusiasts, then you've come to the right place.\", 'hasDescription': True, 'fullPath': 'subject > people and society > business > finance', 'hasFullPath': True, 'competitionCount': 12, 'datasetCount': 6593, 'scriptCount': 3944, 'totalCount': 10549}, {'nameNullable': 'social science', 'descriptionNullable': 'Social science is the collection of disciplines studying how humans interact with each other.', 'fullPathNullable': 'subject > people and society > social science', 'ref': 'social science', 'name': 'social science', 'hasName': True, 'description': 'Social science is the collection of disciplines studying how humans interact with each other.', 'hasDescription': True, 'fullPath': 'subject > people and society > social science', 'hasFullPath': True, 'competitionCount': 0, 'datasetCount': 5999, 'scriptCount': 758, 'totalCount': 6757}, {'nameNullable': 'demographics', 'descriptionNullable': 'Demographics cover different aspects of life: youth, religion, housing, employment, taxes and mortality. This tag contains census data that describe various populations and communities.', 'fullPathNullable': 'subject > people and society > social science > demographics', 'ref': 'demographics', 'name': 'demographics', 'hasName': True, 'description': 'Demographics cover different aspects of life: youth, religion, housing, employment, taxes and mortality. This tag contains census data that describe various populations and communities.', 'hasDescription': True, 'fullPath': 'subject > people and society > social science > demographics', 'hasFullPath': True, 'competitionCount': 1, 'datasetCount': 773, 'scriptCount': 269, 'totalCount': 1043}], 'files': [], 'versions': []}, {'subtitleNullable': 'A complete dataset about Sri Lankan economy', 'creatorNameNullable': 'Amritha R J', 'creatorUrlNullable': 'amritharj', 'totalBytesNullable': 3178, 'urlNullable': 'https://www.kaggle.com/datasets/amritharj/economy-of-sri-lanka', 'licenseNameNullable': 'Database: Open Database, Contents: © Original Authors', 'descriptionNullable': None, 'ownerNameNullable': 'Amritha R J', 'ownerRefNullable': 'amritharj', 'titleNullable': 'Economy of Sri Lanka', 'currentVersionNumberNullable': 3, 'usabilityRatingNullable': 0.9411765, 'id': 2351382, 'ref': 'amritharj/economy-of-sri-lanka', 'subtitle': 'A complete dataset about Sri Lankan economy', 'hasSubtitle': True, 'creatorName': 'Amritha R J', 'hasCreatorName': True, 'creatorUrl': 'amritharj', 'hasCreatorUrl': True, 'totalBytes': 3178, 'hasTotalBytes': True, 'url': 'https://www.kaggle.com/datasets/amritharj/economy-of-sri-lanka', 'hasUrl': True, 'lastUpdated': '2022-07-19T17:00:47.34Z', 'downloadCount': 422, 'isPrivate': False, 'isFeatured': False, 'licenseName': 'Database: Open Database, Contents: © Original Authors', 'hasLicenseName': True, 'description': '', 'hasDescription': False, 'ownerName': 'Amritha R J', 'hasOwnerName': True, 'ownerRef': 'amritharj', 'hasOwnerRef': True, 'kernelCount': 0, 'title': 'Economy of Sri Lanka', 'hasTitle': True, 'topicCount': 0, 'viewCount': 2507, 'voteCount': 30, 'currentVersionNumber': 3, 'hasCurrentVersionNumber': True, 'usabilityRating': 0.9411765, 'hasUsabilityRating': True, 'tags': [{'nameNullable': 'asia', 'descriptionNullable': \"Asia is Earth's largest and most populous continent, located primarily in the Eastern and Northern Hemispheres.\", 'fullPathNullable': 'geography and places > asia', 'ref': 'asia', 'name': 'asia', 'hasName': True, 'description': \"Asia is Earth's largest and most populous continent, located primarily in the Eastern and Northern Hemispheres.\", 'hasDescription': True, 'fullPath': 'geography and places > asia', 'hasFullPath': True, 'competitionCount': 0, 'datasetCount': 666, 'scriptCount': 117, 'totalCount': 783}, {'nameNullable': 'economics', 'descriptionNullable': 'The economics tag contains resources for analyzing the production, consumption, and transfer of wealth.', 'fullPathNullable': 'subject > people and society > social science > economics', 'ref': 'economics', 'name': 'economics', 'hasName': True, 'description': 'The economics tag contains resources for analyzing the production, consumption, and transfer of wealth.', 'hasDescription': True, 'fullPath': 'subject > people and society > social science > economics', 'hasFullPath': True, 'competitionCount': 0, 'datasetCount': 2734, 'scriptCount': 642, 'totalCount': 3376}, {'nameNullable': 'beginner', 'descriptionNullable': 'New to data science? Explore tips, tricks, and beginner friendly work from other Kagglers.', 'fullPathNullable': 'audience > beginner', 'ref': 'beginner', 'name': 'beginner', 'hasName': True, 'description': 'New to data science? Explore tips, tricks, and beginner friendly work from other Kagglers.', 'hasDescription': True, 'fullPath': 'audience > beginner', 'hasFullPath': True, 'competitionCount': 8183, 'datasetCount': 5429, 'scriptCount': 38127, 'totalCount': 51739}, {'nameNullable': 'exploratory data analysis', 'descriptionNullable': None, 'fullPathNullable': 'technique > exploratory data analysis', 'ref': 'exploratory data analysis', 'name': 'exploratory data analysis', 'hasName': True, 'description': '', 'hasDescription': False, 'fullPath': 'technique > exploratory data analysis', 'hasFullPath': True, 'competitionCount': 2, 'datasetCount': 3234, 'scriptCount': 28404, 'totalCount': 31640}, {'nameNullable': 'tabular', 'descriptionNullable': None, 'fullPathNullable': 'data type > tabular', 'ref': 'tabular', 'name': 'tabular', 'hasName': True, 'description': '', 'hasDescription': False, 'fullPath': 'data type > tabular', 'hasFullPath': True, 'competitionCount': 8615, 'datasetCount': 7765, 'scriptCount': 5668, 'totalCount': 22048}], 'files': [], 'versions': []}, {'subtitleNullable': \"How well is the U.S. economy doing according to government's standards?\", 'creatorNameNullable': 'ChimaVOgu', 'creatorUrlNullable': 'chimavogu', 'totalBytesNullable': 1667902, 'urlNullable': 'https://www.kaggle.com/datasets/chimavogu/us-economy-dataset', 'licenseNameNullable': 'CC0: Public Domain', 'descriptionNullable': None, 'ownerNameNullable': 'ChimaVOgu', 'ownerRefNullable': 'chimavogu', 'titleNullable': 'US Economy Case Study', 'currentVersionNumberNullable': 3, 'usabilityRatingNullable': 0.9705882, 'id': 2035181, 'ref': 'chimavogu/us-economy-dataset', 'subtitle': \"How well is the U.S. economy doing according to government's standards?\", 'hasSubtitle': True, 'creatorName': 'ChimaVOgu', 'hasCreatorName': True, 'creatorUrl': 'chimavogu', 'hasCreatorUrl': True, 'totalBytes': 1667902, 'hasTotalBytes': True, 'url': 'https://www.kaggle.com/datasets/chimavogu/us-economy-dataset', 'hasUrl': True, 'lastUpdated': '2022-03-29T08:41:13.33Z', 'downloadCount': 337, 'isPrivate': False, 'isFeatured': False, 'licenseName': 'CC0: Public Domain', 'hasLicenseName': True, 'description': '', 'hasDescription': False, 'ownerName': 'ChimaVOgu', 'hasOwnerName': True, 'ownerRef': 'chimavogu', 'hasOwnerRef': True, 'kernelCount': 1, 'title': 'US Economy Case Study', 'hasTitle': True, 'topicCount': 0, 'viewCount': 2617, 'voteCount': 11, 'currentVersionNumber': 3, 'hasCurrentVersionNumber': True, 'usabilityRating': 0.9705882, 'hasUsabilityRating': True, 'tags': [{'nameNullable': 'business', 'descriptionNullable': 'Businesses are organizational entities that drive economic activity. Explore the inner workings of things like HR practices, product sales, and customer happiness in these competitions, kernels, and datasets.', 'fullPathNullable': 'subject > people and society > business', 'ref': 'business', 'name': 'business', 'hasName': True, 'description': 'Businesses are organizational entities that drive economic activity. Explore the inner workings of things like HR practices, product sales, and customer happiness in these competitions, kernels, and datasets.', 'hasDescription': True, 'fullPath': 'subject > people and society > business', 'hasFullPath': True, 'competitionCount': 14, 'datasetCount': 53544, 'scriptCount': 25229, 'totalCount': 78787}, {'nameNullable': 'economics', 'descriptionNullable': 'The economics tag contains resources for analyzing the production, consumption, and transfer of wealth.', 'fullPathNullable': 'subject > people and society > social science > economics', 'ref': 'economics', 'name': 'economics', 'hasName': True, 'description': 'The economics tag contains resources for analyzing the production, consumption, and transfer of wealth.', 'hasDescription': True, 'fullPath': 'subject > people and society > social science > economics', 'hasFullPath': True, 'competitionCount': 0, 'datasetCount': 2734, 'scriptCount': 642, 'totalCount': 3376}], 'files': [], 'versions': []}, {'subtitleNullable': 'Economy of Indian cities .', 'creatorNameNullable': 'Mayank Garg ☑️', 'creatorUrlNullable': 'mayank787', 'totalBytesNullable': 18211, 'urlNullable': 'https://www.kaggle.com/datasets/mayank787/indian-economy-based-on-cities', 'licenseNameNullable': 'CC0: Public Domain', 'descriptionNullable': None, 'ownerNameNullable': 'Mayank Garg ☑️', 'ownerRefNullable': 'mayank787', 'titleNullable': 'Indian Economy based on cities', 'currentVersionNumberNullable': 2, 'usabilityRatingNullable': 0.9411765, 'id': 3442218, 'ref': 'mayank787/indian-economy-based-on-cities', 'subtitle': 'Economy of Indian cities .', 'hasSubtitle': True, 'creatorName': 'Mayank Garg ☑️', 'hasCreatorName': True, 'creatorUrl': 'mayank787', 'hasCreatorUrl': True, 'totalBytes': 18211, 'hasTotalBytes': True, 'url': 'https://www.kaggle.com/datasets/mayank787/indian-economy-based-on-cities', 'hasUrl': True, 'lastUpdated': '2023-07-03T11:30:17.963Z', 'downloadCount': 257, 'isPrivate': False, 'isFeatured': False, 'licenseName': 'CC0: Public Domain', 'hasLicenseName': True, 'description': '', 'hasDescription': False, 'ownerName': 'Mayank Garg ☑️', 'hasOwnerName': True, 'ownerRef': 'mayank787', 'hasOwnerRef': True, 'kernelCount': 0, 'title': 'Indian Economy based on cities', 'hasTitle': True, 'topicCount': 0, 'viewCount': 1133, 'voteCount': 36, 'currentVersionNumber': 2, 'hasCurrentVersionNumber': True, 'usabilityRating': 0.9411765, 'hasUsabilityRating': True, 'tags': [{'nameNullable': 'india', 'descriptionNullable': \"This tag will take you to the wonderful land of datasets and kernels related to India. You will find topics that range far and wide. There's education, travel, weather, and crime, too.\", 'fullPathNullable': 'geography and places > asia > india', 'ref': 'india', 'name': 'india', 'hasName': True, 'description': \"This tag will take you to the wonderful land of datasets and kernels related to India. You will find topics that range far and wide. There's education, travel, weather, and crime, too.\", 'hasDescription': True, 'fullPath': 'geography and places > asia > india', 'hasFullPath': True, 'competitionCount': 0, 'datasetCount': 1590, 'scriptCount': 804, 'totalCount': 2394}, {'nameNullable': 'economics', 'descriptionNullable': 'The economics tag contains resources for analyzing the production, consumption, and transfer of wealth.', 'fullPathNullable': 'subject > people and society > social science > economics', 'ref': 'economics', 'name': 'economics', 'hasName': True, 'description': 'The economics tag contains resources for analyzing the production, consumption, and transfer of wealth.', 'hasDescription': True, 'fullPath': 'subject > people and society > social science > economics', 'hasFullPath': True, 'competitionCount': 0, 'datasetCount': 2734, 'scriptCount': 642, 'totalCount': 3376}, {'nameNullable': 'beginner', 'descriptionNullable': 'New to data science? Explore tips, tricks, and beginner friendly work from other Kagglers.', 'fullPathNullable': 'audience > beginner', 'ref': 'beginner', 'name': 'beginner', 'hasName': True, 'description': 'New to data science? Explore tips, tricks, and beginner friendly work from other Kagglers.', 'hasDescription': True, 'fullPath': 'audience > beginner', 'hasFullPath': True, 'competitionCount': 8183, 'datasetCount': 5429, 'scriptCount': 38127, 'totalCount': 51739}, {'nameNullable': 'tabular', 'descriptionNullable': None, 'fullPathNullable': 'data type > tabular', 'ref': 'tabular', 'name': 'tabular', 'hasName': True, 'description': '', 'hasDescription': False, 'fullPath': 'data type > tabular', 'hasFullPath': True, 'competitionCount': 8615, 'datasetCount': 7765, 'scriptCount': 5668, 'totalCount': 22048}, {'nameNullable': 'english', 'descriptionNullable': '', 'fullPathNullable': 'language > english', 'ref': 'english', 'name': 'english', 'hasName': True, 'description': '', 'hasDescription': True, 'fullPath': 'language > english', 'hasFullPath': True, 'competitionCount': 0, 'datasetCount': 1103, 'scriptCount': 363, 'totalCount': 1466}], 'files': [], 'versions': []}, {'subtitleNullable': 'Indian Agriculture Data to help the Farmers, Value Chain, and the Economy', 'creatorNameNullable': 'Suri Nuthalapati', 'creatorUrlNullable': 'thammuio', 'totalBytesNullable': 27252, 'urlNullable': 'https://www.kaggle.com/datasets/thammuio/all-agriculture-related-datasets-for-india', 'licenseNameNullable': 'Unknown', 'descriptionNullable': None, 'ownerNameNullable': 'Suri Nuthalapati', 'ownerRefNullable': 'thammuio', 'titleNullable': 'All Agriculture related Datasets for India', 'currentVersionNumberNullable': 4, 'usabilityRatingNullable': 0.75, 'id': 131684, 'ref': 'thammuio/all-agriculture-related-datasets-for-india', 'subtitle': 'Indian Agriculture Data to help the Farmers, Value Chain, and the Economy', 'hasSubtitle': True, 'creatorName': 'Suri Nuthalapati', 'hasCreatorName': True, 'creatorUrl': 'thammuio', 'hasCreatorUrl': True, 'totalBytes': 27252, 'hasTotalBytes': True, 'url': 'https://www.kaggle.com/datasets/thammuio/all-agriculture-related-datasets-for-india', 'hasUrl': True, 'lastUpdated': '2019-03-04T22:14:05.463Z', 'downloadCount': 10981, 'isPrivate': False, 'isFeatured': False, 'licenseName': 'Unknown', 'hasLicenseName': True, 'description': '', 'hasDescription': False, 'ownerName': 'Suri Nuthalapati', 'hasOwnerName': True, 'ownerRef': 'thammuio', 'hasOwnerRef': True, 'kernelCount': 6, 'title': 'All Agriculture related Datasets for India', 'hasTitle': True, 'topicCount': 0, 'viewCount': 70768, 'voteCount': 126, 'currentVersionNumber': 4, 'hasCurrentVersionNumber': True, 'usabilityRating': 0.75, 'hasUsabilityRating': True, 'tags': [{'nameNullable': 'india', 'descriptionNullable': \"This tag will take you to the wonderful land of datasets and kernels related to India. You will find topics that range far and wide. There's education, travel, weather, and crime, too.\", 'fullPathNullable': 'geography and places > asia > india', 'ref': 'india', 'name': 'india', 'hasName': True, 'description': \"This tag will take you to the wonderful land of datasets and kernels related to India. You will find topics that range far and wide. There's education, travel, weather, and crime, too.\", 'hasDescription': True, 'fullPath': 'geography and places > asia > india', 'hasFullPath': True, 'competitionCount': 0, 'datasetCount': 1590, 'scriptCount': 804, 'totalCount': 2394}, {'nameNullable': 'earth and nature', 'descriptionNullable': None, 'fullPathNullable': 'subject > earth and nature', 'ref': 'earth and nature', 'name': 'earth and nature', 'hasName': True, 'description': '', 'hasDescription': False, 'fullPath': 'subject > earth and nature', 'hasFullPath': True, 'competitionCount': 10, 'datasetCount': 31128, 'scriptCount': 297, 'totalCount': 31435}, {'nameNullable': 'weather and climate', 'descriptionNullable': 'Weather datasets and kernels come in all wind speeds and directions. You have weather data about hurricanes and other inclement phenomena, hourly readings, and general weather for various cities.', 'fullPathNullable': 'subject > earth and nature > environment > weather and climate', 'ref': 'weather and climate', 'name': 'weather and climate', 'hasName': True, 'description': 'Weather datasets and kernels come in all wind speeds and directions. You have weather data about hurricanes and other inclement phenomena, hourly readings, and general weather for various cities.', 'hasDescription': True, 'fullPath': 'subject > earth and nature > environment > weather and climate', 'hasFullPath': True, 'competitionCount': 5, 'datasetCount': 979, 'scriptCount': 505, 'totalCount': 1489}, {'nameNullable': 'business', 'descriptionNullable': 'Businesses are organizational entities that drive economic activity. Explore the inner workings of things like HR practices, product sales, and customer happiness in these competitions, kernels, and datasets.', 'fullPathNullable': 'subject > people and society > business', 'ref': 'business', 'name': 'business', 'hasName': True, 'description': 'Businesses are organizational entities that drive economic activity. Explore the inner workings of things like HR practices, product sales, and customer happiness in these competitions, kernels, and datasets.', 'hasDescription': True, 'fullPath': 'subject > people and society > business', 'hasFullPath': True, 'competitionCount': 14, 'datasetCount': 53544, 'scriptCount': 25229, 'totalCount': 78787}, {'nameNullable': 'agriculture', 'descriptionNullable': 'You could be well on your way to creating the next big precision agriculture company with the resources in this tag. At the very least, you can use Weekly Corn Prices to make more informed decisions about your purchases at the store.', 'fullPathNullable': 'subject > earth and nature > environment > agriculture', 'ref': 'agriculture', 'name': 'agriculture', 'hasName': True, 'description': 'You could be well on your way to creating the next big precision agriculture company with the resources in this tag. At the very least, you can use Weekly Corn Prices to make more informed decisions about your purchases at the store.', 'hasDescription': True, 'fullPath': 'subject > earth and nature > environment > agriculture', 'hasFullPath': True, 'competitionCount': 2, 'datasetCount': 821, 'scriptCount': 251, 'totalCount': 1074}], 'files': [], 'versions': []}, {'subtitleNullable': 'Can you predict the value of currencies in an online game?', 'creatorNameNullable': 'Ulrik Thyge Pedersen', 'creatorUrlNullable': 'ulrikthygepedersen', 'totalBytesNullable': 573005, 'urlNullable': 'https://www.kaggle.com/datasets/ulrikthygepedersen/path-of-exile-currency-economy-of-an-online-game', 'licenseNameNullable': 'Attribution 4.0 International (CC BY 4.0)', 'descriptionNullable': None, 'ownerNameNullable': 'Ulrik Thyge Pedersen', 'ownerRefNullable': 'ulrikthygepedersen', 'titleNullable': 'Path of Exile Economy', 'currentVersionNumberNullable': 3, 'usabilityRatingNullable': 1.0, 'id': 2807636, 'ref': 'ulrikthygepedersen/path-of-exile-currency-economy-of-an-online-game', 'subtitle': 'Can you predict the value of currencies in an online game?', 'hasSubtitle': True, 'creatorName': 'Ulrik Thyge Pedersen', 'hasCreatorName': True, 'creatorUrl': 'ulrikthygepedersen', 'hasCreatorUrl': True, 'totalBytes': 573005, 'hasTotalBytes': True, 'url': 'https://www.kaggle.com/datasets/ulrikthygepedersen/path-of-exile-currency-economy-of-an-online-game', 'hasUrl': True, 'lastUpdated': '2023-01-19T12:14:41.22Z', 'downloadCount': 85, 'isPrivate': False, 'isFeatured': False, 'licenseName': 'Attribution 4.0 International (CC BY 4.0)', 'hasLicenseName': True, 'description': '', 'hasDescription': False, 'ownerName': 'Ulrik Thyge Pedersen', 'hasOwnerName': True, 'ownerRef': 'ulrikthygepedersen', 'hasOwnerRef': True, 'kernelCount': 1, 'title': 'Path of Exile Economy', 'hasTitle': True, 'topicCount': 0, 'viewCount': 733, 'voteCount': 10, 'currentVersionNumber': 3, 'hasCurrentVersionNumber': True, 'usabilityRating': 1.0, 'hasUsabilityRating': True, 'tags': [{'nameNullable': 'games', 'descriptionNullable': \"One of the hallmarks of intelligence is the use of games and toys to occupy free time and develop intellectually. Often stored in Mom's basement.\", 'fullPathNullable': 'subject > culture and humanities > games', 'ref': 'games', 'name': 'games', 'hasName': True, 'description': \"One of the hallmarks of intelligence is the use of games and toys to occupy free time and develop intellectually. Often stored in Mom's basement.\", 'hasDescription': True, 'fullPath': 'subject > culture and humanities > games', 'hasFullPath': True, 'competitionCount': 2, 'datasetCount': 5410, 'scriptCount': 34643, 'totalCount': 40055}, {'nameNullable': 'intermediate', 'descriptionNullable': None, 'fullPathNullable': 'audience > intermediate', 'ref': 'intermediate', 'name': 'intermediate', 'hasName': True, 'description': '', 'hasDescription': False, 'fullPath': 'audience > intermediate', 'hasFullPath': True, 'competitionCount': 6, 'datasetCount': 3022, 'scriptCount': 3666, 'totalCount': 6694}, {'nameNullable': 'time series analysis', 'descriptionNullable': None, 'fullPathNullable': 'technique > time series analysis', 'ref': 'time series analysis', 'name': 'time series analysis', 'hasName': True, 'description': '', 'hasDescription': False, 'fullPath': 'technique > time series analysis', 'hasFullPath': True, 'competitionCount': 62, 'datasetCount': 1869, 'scriptCount': 3096, 'totalCount': 5027}, {'nameNullable': 'currencies and foreign exchange', 'descriptionNullable': None, 'fullPathNullable': 'subject > people and society > business > finance > currencies and foreign exchange', 'ref': 'currencies and foreign exchange', 'name': 'currencies and foreign exchange', 'hasName': True, 'description': '', 'hasDescription': False, 'fullPath': 'subject > people and society > business > finance > currencies and foreign exchange', 'hasFullPath': True, 'competitionCount': 1, 'datasetCount': 4097, 'scriptCount': 1947, 'totalCount': 6045}], 'files': [], 'versions': []}, {'subtitleNullable': 'Тексты новостей раздела \"Экономика\" портала РБК и Лента.ру с 2000 по 2020 год', 'creatorNameNullable': 'Никита Разуваев', 'creatorUrlNullable': 'hardtype', 'totalBytesNullable': 190273753, 'urlNullable': 'https://www.kaggle.com/datasets/hardtype/rbc-economy-news', 'licenseNameNullable': 'CC0: Public Domain', 'descriptionNullable': None, 'ownerNameNullable': 'Никита Разуваев', 'ownerRefNullable': 'hardtype', 'titleNullable': 'RBC & Lenta.ru Economy News', 'currentVersionNumberNullable': 3, 'usabilityRatingNullable': 0.85294116, 'id': 1342415, 'ref': 'hardtype/rbc-economy-news', 'subtitle': 'Тексты новостей раздела \"Экономика\" портала РБК и Лента.ру с 2000 по 2020 год', 'hasSubtitle': True, 'creatorName': 'Никита Разуваев', 'hasCreatorName': True, 'creatorUrl': 'hardtype', 'hasCreatorUrl': True, 'totalBytes': 190273753, 'hasTotalBytes': True, 'url': 'https://www.kaggle.com/datasets/hardtype/rbc-economy-news', 'hasUrl': True, 'lastUpdated': '2021-05-15T14:56:56.56Z', 'downloadCount': 134, 'isPrivate': False, 'isFeatured': False, 'licenseName': 'CC0: Public Domain', 'hasLicenseName': True, 'description': '', 'hasDescription': False, 'ownerName': 'Никита Разуваев', 'hasOwnerName': True, 'ownerRef': 'hardtype', 'hasOwnerRef': True, 'kernelCount': 1, 'title': 'RBC & Lenta.ru Economy News', 'hasTitle': True, 'topicCount': 0, 'viewCount': 1637, 'voteCount': 8, 'currentVersionNumber': 3, 'hasCurrentVersionNumber': True, 'usabilityRating': 0.85294116, 'hasUsabilityRating': True, 'tags': [{'nameNullable': 'finance', 'descriptionNullable': \"The finance tag covers datasets and kernels about money and investing. If you need to test some new cryptocurrency investment strategies or ward off those pesky credit card fraud enthusiasts, then you've come to the right place.\", 'fullPathNullable': 'subject > people and society > business > finance', 'ref': 'finance', 'name': 'finance', 'hasName': True, 'description': \"The finance tag covers datasets and kernels about money and investing. If you need to test some new cryptocurrency investment strategies or ward off those pesky credit card fraud enthusiasts, then you've come to the right place.\", 'hasDescription': True, 'fullPath': 'subject > people and society > business > finance', 'hasFullPath': True, 'competitionCount': 12, 'datasetCount': 6593, 'scriptCount': 3944, 'totalCount': 10549}, {'nameNullable': 'economics', 'descriptionNullable': 'The economics tag contains resources for analyzing the production, consumption, and transfer of wealth.', 'fullPathNullable': 'subject > people and society > social science > economics', 'ref': 'economics', 'name': 'economics', 'hasName': True, 'description': 'The economics tag contains resources for analyzing the production, consumption, and transfer of wealth.', 'hasDescription': True, 'fullPath': 'subject > people and society > social science > economics', 'hasFullPath': True, 'competitionCount': 0, 'datasetCount': 2734, 'scriptCount': 642, 'totalCount': 3376}, {'nameNullable': 'nlp', 'descriptionNullable': 'Natural Language Processing gives a computer program the ability to extract meaning human language. Applications include sentiment analysis, translation, and speech recognition.', 'fullPathNullable': 'analysis > nlp', 'ref': 'nlp', 'name': 'nlp', 'hasName': True, 'description': 'Natural Language Processing gives a computer program the ability to extract meaning human language. Applications include sentiment analysis, translation, and speech recognition.', 'hasDescription': True, 'fullPath': 'analysis > nlp', 'hasFullPath': True, 'competitionCount': 51, 'datasetCount': 3228, 'scriptCount': 7280, 'totalCount': 10559}, {'nameNullable': 'news', 'descriptionNullable': None, 'fullPathNullable': 'subject > people and society > news', 'ref': 'news', 'name': 'news', 'hasName': True, 'description': '', 'hasDescription': False, 'fullPath': 'subject > people and society > news', 'hasFullPath': True, 'competitionCount': 1, 'datasetCount': 7945, 'scriptCount': 3023, 'totalCount': 10969}], 'files': [], 'versions': []}, {'subtitleNullable': \"Nigeria's Economic Growth in the Past and possible&nbsp;Future\", 'creatorNameNullable': 'Ogbuzuru Kelechi', 'creatorUrlNullable': 'ogbuzurukelechi', 'totalBytesNullable': 19132, 'urlNullable': 'https://www.kaggle.com/datasets/ogbuzurukelechi/nigeria-economy-growth-1990-2023', 'licenseNameNullable': 'Database: Open Database, Contents: © Original Authors', 'descriptionNullable': None, 'ownerNameNullable': 'Ogbuzuru Kelechi', 'ownerRefNullable': 'ogbuzurukelechi', 'titleNullable': 'Nigeria Economy Growth 1990-2023', 'currentVersionNumberNullable': 1, 'usabilityRatingNullable': 0.8235294, 'id': 3352228, 'ref': 'ogbuzurukelechi/nigeria-economy-growth-1990-2023', 'subtitle': \"Nigeria's Economic Growth in the Past and possible&nbsp;Future\", 'hasSubtitle': True, 'creatorName': 'Ogbuzuru Kelechi', 'hasCreatorName': True, 'creatorUrl': 'ogbuzurukelechi', 'hasCreatorUrl': True, 'totalBytes': 19132, 'hasTotalBytes': True, 'url': 'https://www.kaggle.com/datasets/ogbuzurukelechi/nigeria-economy-growth-1990-2023', 'hasUrl': True, 'lastUpdated': '2023-06-02T13:37:11.277Z', 'downloadCount': 406, 'isPrivate': False, 'isFeatured': False, 'licenseName': 'Database: Open Database, Contents: © Original Authors', 'hasLicenseName': True, 'description': '', 'hasDescription': False, 'ownerName': 'Ogbuzuru Kelechi', 'hasOwnerName': True, 'ownerRef': 'ogbuzurukelechi', 'hasOwnerRef': True, 'kernelCount': 1, 'title': 'Nigeria Economy Growth 1990-2023', 'hasTitle': True, 'topicCount': 0, 'viewCount': 1483, 'voteCount': 23, 'currentVersionNumber': 1, 'hasCurrentVersionNumber': True, 'usabilityRating': 0.8235294, 'hasUsabilityRating': True, 'tags': [{'nameNullable': 'employment', 'descriptionNullable': 'Where does it pay to attend college? What impacts employee satisfaction and what makes them quit their jobs? Explore these questions and others in kernels and datasets with this tag.', 'fullPathNullable': 'subject > people and society > jobs and career > employment', 'ref': 'employment', 'name': 'employment', 'hasName': True, 'description': 'Where does it pay to attend college? What impacts employee satisfaction and what makes them quit their jobs? Explore these questions and others in kernels and datasets with this tag.', 'hasDescription': True, 'fullPath': 'subject > people and society > jobs and career > employment', 'hasFullPath': True, 'competitionCount': 1, 'datasetCount': 450, 'scriptCount': 177, 'totalCount': 628}, {'nameNullable': 'finance', 'descriptionNullable': \"The finance tag covers datasets and kernels about money and investing. If you need to test some new cryptocurrency investment strategies or ward off those pesky credit card fraud enthusiasts, then you've come to the right place.\", 'fullPathNullable': 'subject > people and society > business > finance', 'ref': 'finance', 'name': 'finance', 'hasName': True, 'description': \"The finance tag covers datasets and kernels about money and investing. If you need to test some new cryptocurrency investment strategies or ward off those pesky credit card fraud enthusiasts, then you've come to the right place.\", 'hasDescription': True, 'fullPath': 'subject > people and society > business > finance', 'hasFullPath': True, 'competitionCount': 12, 'datasetCount': 6593, 'scriptCount': 3944, 'totalCount': 10549}, {'nameNullable': 'demographics', 'descriptionNullable': 'Demographics cover different aspects of life: youth, religion, housing, employment, taxes and mortality. This tag contains census data that describe various populations and communities.', 'fullPathNullable': 'subject > people and society > social science > demographics', 'ref': 'demographics', 'name': 'demographics', 'hasName': True, 'description': 'Demographics cover different aspects of life: youth, religion, housing, employment, taxes and mortality. This tag contains census data that describe various populations and communities.', 'hasDescription': True, 'fullPath': 'subject > people and society > social science > demographics', 'hasFullPath': True, 'competitionCount': 1, 'datasetCount': 773, 'scriptCount': 269, 'totalCount': 1043}, {'nameNullable': 'economics', 'descriptionNullable': 'The economics tag contains resources for analyzing the production, consumption, and transfer of wealth.', 'fullPathNullable': 'subject > people and society > social science > economics', 'ref': 'economics', 'name': 'economics', 'hasName': True, 'description': 'The economics tag contains resources for analyzing the production, consumption, and transfer of wealth.', 'hasDescription': True, 'fullPath': 'subject > people and society > social science > economics', 'hasFullPath': True, 'competitionCount': 0, 'datasetCount': 2734, 'scriptCount': 642, 'totalCount': 3376}], 'files': [], 'versions': []}, {'subtitleNullable': 'Women Informal Work & Unpaid Care Work', 'creatorNameNullable': 'Marília Prata', 'creatorUrlNullable': 'mpwolke', 'totalBytesNullable': 2812, 'urlNullable': 'https://www.kaggle.com/datasets/mpwolke/cusersmarildownloadsinformalcsv', 'licenseNameNullable': 'Other (specified in description)', 'descriptionNullable': None, 'ownerNameNullable': 'Marília Prata', 'ownerRefNullable': 'mpwolke', 'titleNullable': 'Women Employed in the Informal Economy', 'currentVersionNumberNullable': 1, 'usabilityRatingNullable': 1.0, 'id': 2421773, 'ref': 'mpwolke/cusersmarildownloadsinformalcsv', 'subtitle': 'Women Informal Work & Unpaid Care Work', 'hasSubtitle': True, 'creatorName': 'Marília Prata', 'hasCreatorName': True, 'creatorUrl': 'mpwolke', 'hasCreatorUrl': True, 'totalBytes': 2812, 'hasTotalBytes': True, 'url': 'https://www.kaggle.com/datasets/mpwolke/cusersmarildownloadsinformalcsv', 'hasUrl': True, 'lastUpdated': '2022-08-19T13:58:08.47Z', 'downloadCount': 104, 'isPrivate': False, 'isFeatured': False, 'licenseName': 'Other (specified in description)', 'hasLicenseName': True, 'description': '', 'hasDescription': False, 'ownerName': 'Marília Prata', 'hasOwnerName': True, 'ownerRef': 'mpwolke', 'hasOwnerRef': True, 'kernelCount': 1, 'title': 'Women Employed in the Informal Economy', 'hasTitle': True, 'topicCount': 0, 'viewCount': 1154, 'voteCount': 21, 'currentVersionNumber': 1, 'hasCurrentVersionNumber': True, 'usabilityRating': 1.0, 'hasUsabilityRating': True, 'tags': [{'nameNullable': 'employment', 'descriptionNullable': 'Where does it pay to attend college? What impacts employee satisfaction and what makes them quit their jobs? Explore these questions and others in kernels and datasets with this tag.', 'fullPathNullable': 'subject > people and society > jobs and career > employment', 'ref': 'employment', 'name': 'employment', 'hasName': True, 'description': 'Where does it pay to attend college? What impacts employee satisfaction and what makes them quit their jobs? Explore these questions and others in kernels and datasets with this tag.', 'hasDescription': True, 'fullPath': 'subject > people and society > jobs and career > employment', 'hasFullPath': True, 'competitionCount': 1, 'datasetCount': 450, 'scriptCount': 177, 'totalCount': 628}, {'nameNullable': 'tabular', 'descriptionNullable': None, 'fullPathNullable': 'data type > tabular', 'ref': 'tabular', 'name': 'tabular', 'hasName': True, 'description': '', 'hasDescription': False, 'fullPath': 'data type > tabular', 'hasFullPath': True, 'competitionCount': 8615, 'datasetCount': 7765, 'scriptCount': 5668, 'totalCount': 22048}], 'files': [], 'versions': []}, {'subtitleNullable': 'This dataset contains United State vehicle fuel economy data starting from 1984', 'creatorNameNullable': 'Raj Kumar Pandey', 'creatorUrlNullable': 'rajkumarpandey02', 'totalBytesNullable': 2119563, 'urlNullable': 'https://www.kaggle.com/datasets/rajkumarpandey02/vehicle-fuel-economy-data-us', 'licenseNameNullable': 'CC0: Public Domain', 'descriptionNullable': None, 'ownerNameNullable': 'Raj Kumar Pandey', 'ownerRefNullable': 'rajkumarpandey02', 'titleNullable': ' US Vehicle Fuel Economy Data ', 'currentVersionNumberNullable': 1, 'usabilityRatingNullable': 0.88235295, 'id': 3309476, 'ref': 'rajkumarpandey02/vehicle-fuel-economy-data-us', 'subtitle': 'This dataset contains United State vehicle fuel economy data starting from 1984', 'hasSubtitle': True, 'creatorName': 'Raj Kumar Pandey', 'hasCreatorName': True, 'creatorUrl': 'rajkumarpandey02', 'hasCreatorUrl': True, 'totalBytes': 2119563, 'hasTotalBytes': True, 'url': 'https://www.kaggle.com/datasets/rajkumarpandey02/vehicle-fuel-economy-data-us', 'hasUrl': True, 'lastUpdated': '2023-05-23T17:04:49.903Z', 'downloadCount': 1035, 'isPrivate': False, 'isFeatured': False, 'licenseName': 'CC0: Public Domain', 'hasLicenseName': True, 'description': '', 'hasDescription': False, 'ownerName': 'Raj Kumar Pandey', 'hasOwnerName': True, 'ownerRef': 'rajkumarpandey02', 'hasOwnerRef': True, 'kernelCount': 0, 'title': ' US Vehicle Fuel Economy Data ', 'hasTitle': True, 'topicCount': 0, 'viewCount': 4842, 'voteCount': 33, 'currentVersionNumber': 1, 'hasCurrentVersionNumber': True, 'usabilityRating': 0.88235295, 'hasUsabilityRating': True, 'tags': [{'nameNullable': 'automobiles and vehicles', 'descriptionNullable': 'The automobile tag is everything about cars. Analyze insurance rates or how far you can go on one gallon of petrol.', 'fullPathNullable': 'subject > science and technology > transportation > automobiles and vehicles', 'ref': 'automobiles and vehicles', 'name': 'automobiles and vehicles', 'hasName': True, 'description': 'The automobile tag is everything about cars. Analyze insurance rates or how far you can go on one gallon of petrol.', 'hasDescription': True, 'fullPath': 'subject > science and technology > transportation > automobiles and vehicles', 'hasFullPath': True, 'competitionCount': 5, 'datasetCount': 6968, 'scriptCount': 1686, 'totalCount': 8659}, {'nameNullable': 'exploratory data analysis', 'descriptionNullable': None, 'fullPathNullable': 'technique > exploratory data analysis', 'ref': 'exploratory data analysis', 'name': 'exploratory data analysis', 'hasName': True, 'description': '', 'hasDescription': False, 'fullPath': 'technique > exploratory data analysis', 'hasFullPath': True, 'competitionCount': 2, 'datasetCount': 3234, 'scriptCount': 28404, 'totalCount': 31640}, {'nameNullable': 'data visualization', 'descriptionNullable': 'The art of depicting data in a visual format. Using charts and graphs, it is easier to observe patterns, relationships, and outliers.', 'fullPathNullable': 'technique > data visualization', 'ref': 'data visualization', 'name': 'data visualization', 'hasName': True, 'description': 'The art of depicting data in a visual format. Using charts and graphs, it is easier to observe patterns, relationships, and outliers.', 'hasDescription': True, 'fullPath': 'technique > data visualization', 'hasFullPath': True, 'competitionCount': 3, 'datasetCount': 4431, 'scriptCount': 31572, 'totalCount': 36006}, {'nameNullable': 'data analytics', 'descriptionNullable': None, 'fullPathNullable': 'technique > data analytics', 'ref': 'data analytics', 'name': 'data analytics', 'hasName': True, 'description': '', 'hasDescription': False, 'fullPath': 'technique > data analytics', 'hasFullPath': True, 'competitionCount': 10, 'datasetCount': 4480, 'scriptCount': 10546, 'totalCount': 15036}, {'nameNullable': 'tabular', 'descriptionNullable': None, 'fullPathNullable': 'data type > tabular', 'ref': 'tabular', 'name': 'tabular', 'hasName': True, 'description': '', 'hasDescription': False, 'fullPath': 'data type > tabular', 'hasFullPath': True, 'competitionCount': 8615, 'datasetCount': 7765, 'scriptCount': 5668, 'totalCount': 22048}], 'files': [], 'versions': []}, {'subtitleNullable': 'Informations of GDP with others Economics and Demographics Indicators', 'creatorNameNullable': 'Gabriel Rios', 'creatorUrlNullable': 'gabrielrs3', 'totalBytesNullable': 616542, 'urlNullable': 'https://www.kaggle.com/datasets/gabrielrs3/economy-and-population-of-cities-in-brazil-ibge', 'licenseNameNullable': 'CC0: Public Domain', 'descriptionNullable': None, 'ownerNameNullable': 'Gabriel Rios', 'ownerRefNullable': 'gabrielrs3', 'titleNullable': 'Economy and Population of Cities in Brazil (IBGE)', 'currentVersionNumberNullable': 1, 'usabilityRatingNullable': 0.7058824, 'id': 202526, 'ref': 'gabrielrs3/economy-and-population-of-cities-in-brazil-ibge', 'subtitle': 'Informations of GDP with others Economics and Demographics Indicators', 'hasSubtitle': True, 'creatorName': 'Gabriel Rios', 'hasCreatorName': True, 'creatorUrl': 'gabrielrs3', 'hasCreatorUrl': True, 'totalBytes': 616542, 'hasTotalBytes': True, 'url': 'https://www.kaggle.com/datasets/gabrielrs3/economy-and-population-of-cities-in-brazil-ibge', 'hasUrl': True, 'lastUpdated': '2019-05-23T15:19:53.823Z', 'downloadCount': 951, 'isPrivate': False, 'isFeatured': False, 'licenseName': 'CC0: Public Domain', 'hasLicenseName': True, 'description': '', 'hasDescription': False, 'ownerName': 'Gabriel Rios', 'hasOwnerName': True, 'ownerRef': 'gabrielrs3', 'hasOwnerRef': True, 'kernelCount': 3, 'title': 'Economy and Population of Cities in Brazil (IBGE)', 'hasTitle': True, 'topicCount': 0, 'viewCount': 9106, 'voteCount': 21, 'currentVersionNumber': 1, 'hasCurrentVersionNumber': True, 'usabilityRating': 0.7058824, 'hasUsabilityRating': True, 'tags': [{'nameNullable': 'cities and urban areas', 'descriptionNullable': 'In this tag you will find datasets and kernels about various cities around the world.', 'fullPathNullable': 'subject > earth and nature > environment > cities and urban areas', 'ref': 'cities and urban areas', 'name': 'cities and urban areas', 'hasName': True, 'description': 'In this tag you will find datasets and kernels about various cities around the world.', 'hasDescription': True, 'fullPath': 'subject > earth and nature > environment > cities and urban areas', 'hasFullPath': True, 'competitionCount': 2, 'datasetCount': 623, 'scriptCount': 150, 'totalCount': 775}, {'nameNullable': 'brazil', 'descriptionNullable': \"You don't have to visit Brazil to learn about their politics, soccer, and brush with Zika. This tag covers all the things you might be interested in about Brazil.\", 'fullPathNullable': 'geography and places > south america > brazil', 'ref': 'brazil', 'name': 'brazil', 'hasName': True, 'description': \"You don't have to visit Brazil to learn about their politics, soccer, and brush with Zika. This tag covers all the things you might be interested in about Brazil.\", 'hasDescription': True, 'fullPath': 'geography and places > south america > brazil', 'hasFullPath': True, 'competitionCount': 0, 'datasetCount': 566, 'scriptCount': 238, 'totalCount': 804}, {'nameNullable': 'social science', 'descriptionNullable': 'Social science is the collection of disciplines studying how humans interact with each other.', 'fullPathNullable': 'subject > people and society > social science', 'ref': 'social science', 'name': 'social science', 'hasName': True, 'description': 'Social science is the collection of disciplines studying how humans interact with each other.', 'hasDescription': True, 'fullPath': 'subject > people and society > social science', 'hasFullPath': True, 'competitionCount': 0, 'datasetCount': 5999, 'scriptCount': 758, 'totalCount': 6757}, {'nameNullable': 'demographics', 'descriptionNullable': 'Demographics cover different aspects of life: youth, religion, housing, employment, taxes and mortality. This tag contains census data that describe various populations and communities.', 'fullPathNullable': 'subject > people and society > social science > demographics', 'ref': 'demographics', 'name': 'demographics', 'hasName': True, 'description': 'Demographics cover different aspects of life: youth, religion, housing, employment, taxes and mortality. This tag contains census data that describe various populations and communities.', 'hasDescription': True, 'fullPath': 'subject > people and society > social science > demographics', 'hasFullPath': True, 'competitionCount': 1, 'datasetCount': 773, 'scriptCount': 269, 'totalCount': 1043}, {'nameNullable': 'economics', 'descriptionNullable': 'The economics tag contains resources for analyzing the production, consumption, and transfer of wealth.', 'fullPathNullable': 'subject > people and society > social science > economics', 'ref': 'economics', 'name': 'economics', 'hasName': True, 'description': 'The economics tag contains resources for analyzing the production, consumption, and transfer of wealth.', 'hasDescription': True, 'fullPath': 'subject > people and society > social science > economics', 'hasFullPath': True, 'competitionCount': 0, 'datasetCount': 2734, 'scriptCount': 642, 'totalCount': 3376}, {'nameNullable': 'geospatial analysis', 'descriptionNullable': None, 'fullPathNullable': 'analysis > geospatial analysis', 'ref': 'geospatial analysis', 'name': 'geospatial analysis', 'hasName': True, 'description': '', 'hasDescription': False, 'fullPath': 'analysis > geospatial analysis', 'hasFullPath': True, 'competitionCount': 12, 'datasetCount': 929, 'scriptCount': 847, 'totalCount': 1788}], 'files': [], 'versions': []}, {'subtitleNullable': 'The details about the GDP of  Indian states and percentage share in total GDP ', 'creatorNameNullable': 'Sayantan Sadhu', 'creatorUrlNullable': 'sayantansadhu', 'totalBytesNullable': 1411, 'urlNullable': 'https://www.kaggle.com/datasets/sayantansadhu/economy-of-indian-states', 'licenseNameNullable': 'CC0: Public Domain', 'descriptionNullable': None, 'ownerNameNullable': 'Sayantan Sadhu', 'ownerRefNullable': 'sayantansadhu', 'titleNullable': 'Economy of Indian States', 'currentVersionNumberNullable': 2, 'usabilityRatingNullable': 0.8125, 'id': 1382396, 'ref': 'sayantansadhu/economy-of-indian-states', 'subtitle': 'The details about the GDP of  Indian states and percentage share in total GDP ', 'hasSubtitle': True, 'creatorName': 'Sayantan Sadhu', 'hasCreatorName': True, 'creatorUrl': 'sayantansadhu', 'hasCreatorUrl': True, 'totalBytes': 1411, 'hasTotalBytes': True, 'url': 'https://www.kaggle.com/datasets/sayantansadhu/economy-of-indian-states', 'hasUrl': True, 'lastUpdated': '2021-06-02T13:26:50.25Z', 'downloadCount': 395, 'isPrivate': False, 'isFeatured': False, 'licenseName': 'CC0: Public Domain', 'hasLicenseName': True, 'description': '', 'hasDescription': False, 'ownerName': 'Sayantan Sadhu', 'hasOwnerName': True, 'ownerRef': 'sayantansadhu', 'hasOwnerRef': True, 'kernelCount': 0, 'title': 'Economy of Indian States', 'hasTitle': True, 'topicCount': 0, 'viewCount': 3143, 'voteCount': 17, 'currentVersionNumber': 2, 'hasCurrentVersionNumber': True, 'usabilityRating': 0.8125, 'hasUsabilityRating': True, 'tags': [{'nameNullable': 'economics', 'descriptionNullable': 'The economics tag contains resources for analyzing the production, consumption, and transfer of wealth.', 'fullPathNullable': 'subject > people and society > social science > economics', 'ref': 'economics', 'name': 'economics', 'hasName': True, 'description': 'The economics tag contains resources for analyzing the production, consumption, and transfer of wealth.', 'hasDescription': True, 'fullPath': 'subject > people and society > social science > economics', 'hasFullPath': True, 'competitionCount': 0, 'datasetCount': 2734, 'scriptCount': 642, 'totalCount': 3376}], 'files': [], 'versions': []}]\n"
          ]
        }
      ]
    },
    {
      "cell_type": "code",
      "source": [
        "!kaggle datasets list -s \"education\""
      ],
      "metadata": {
        "id": "sL8zpTR87dfJ"
      },
      "execution_count": null,
      "outputs": []
    },
    {
      "cell_type": "code",
      "source": [
        "!pip install pandas\n",
        "import pandas as pd"
      ],
      "metadata": {
        "id": "BwROUG5z7nCp"
      },
      "execution_count": null,
      "outputs": []
    },
    {
      "cell_type": "code",
      "source": [
        "datasets = kaggle.api.datasets_list(search=\"education\")\n",
        "df1=pd.DataFrame(datasets)\n",
        "pd.DataFrame(datasets)"
      ],
      "metadata": {
        "id": "KBN3BZIQ8mei"
      },
      "execution_count": null,
      "outputs": []
    },
    {
      "cell_type": "code",
      "source": [
        "df1.to_excel(\"education.xlsx\", sheet_name='education')"
      ],
      "metadata": {
        "id": "BvYJLg4v8Wmx"
      },
      "execution_count": null,
      "outputs": []
    },
    {
      "cell_type": "code",
      "source": [
        "from google.colab import files\n",
        "files.download('education.xlsx')"
      ],
      "metadata": {
        "colab": {
          "base_uri": "https://localhost:8080/",
          "height": 17
        },
        "id": "khHuflai8zlR",
        "outputId": "3f2f09a6-9453-4fe4-f3e8-26f43e35101e"
      },
      "execution_count": null,
      "outputs": [
        {
          "output_type": "display_data",
          "data": {
            "text/plain": [
              "<IPython.core.display.Javascript object>"
            ],
            "application/javascript": [
              "\n",
              "    async function download(id, filename, size) {\n",
              "      if (!google.colab.kernel.accessAllowed) {\n",
              "        return;\n",
              "      }\n",
              "      const div = document.createElement('div');\n",
              "      const label = document.createElement('label');\n",
              "      label.textContent = `Downloading \"${filename}\": `;\n",
              "      div.appendChild(label);\n",
              "      const progress = document.createElement('progress');\n",
              "      progress.max = size;\n",
              "      div.appendChild(progress);\n",
              "      document.body.appendChild(div);\n",
              "\n",
              "      const buffers = [];\n",
              "      let downloaded = 0;\n",
              "\n",
              "      const channel = await google.colab.kernel.comms.open(id);\n",
              "      // Send a message to notify the kernel that we're ready.\n",
              "      channel.send({})\n",
              "\n",
              "      for await (const message of channel.messages) {\n",
              "        // Send a message to notify the kernel that we're ready.\n",
              "        channel.send({})\n",
              "        if (message.buffers) {\n",
              "          for (const buffer of message.buffers) {\n",
              "            buffers.push(buffer);\n",
              "            downloaded += buffer.byteLength;\n",
              "            progress.value = downloaded;\n",
              "          }\n",
              "        }\n",
              "      }\n",
              "      const blob = new Blob(buffers, {type: 'application/binary'});\n",
              "      const a = document.createElement('a');\n",
              "      a.href = window.URL.createObjectURL(blob);\n",
              "      a.download = filename;\n",
              "      div.appendChild(a);\n",
              "      a.click();\n",
              "      div.remove();\n",
              "    }\n",
              "  "
            ]
          },
          "metadata": {}
        },
        {
          "output_type": "display_data",
          "data": {
            "text/plain": [
              "<IPython.core.display.Javascript object>"
            ],
            "application/javascript": [
              "download(\"download_2c2707f6-150a-42cb-abe3-aacc166842f8\", \"education.xlsx\", 17389)"
            ]
          },
          "metadata": {}
        }
      ]
    },
    {
      "cell_type": "markdown",
      "source": [
        "# Изучим датасет **The Times Higher Education World University Rankings**\n"
      ],
      "metadata": {
        "id": "tU1JXJ_P9dln"
      }
    },
    {
      "cell_type": "markdown",
      "source": [
        "Download Dataset."
      ],
      "metadata": {
        "id": "DoMlXD9H-QvT"
      }
    },
    {
      "cell_type": "code",
      "source": [
        "!kaggle datasets download -d r1chardson/the-world-university-rankings-2011-2023"
      ],
      "metadata": {
        "id": "u14HrKOj-Rn0"
      },
      "execution_count": null,
      "outputs": []
    },
    {
      "cell_type": "code",
      "source": [
        "import zipfile\n",
        "\n",
        "with zipfile.ZipFile(\"the-world-university-rankings-2011-2023.zip\",\"r\") as zip_ref:\n",
        "\n",
        "    # extracting content in the zipfile\n",
        "    zip_ref.extractall()\n",
        "\n"
      ],
      "metadata": {
        "id": "Nw5DDyew_lsd"
      },
      "execution_count": null,
      "outputs": []
    },
    {
      "cell_type": "code",
      "source": [
        "!ls"
      ],
      "metadata": {
        "id": "RQWFIvx3_aw0"
      },
      "execution_count": null,
      "outputs": []
    },
    {
      "cell_type": "code",
      "source": [
        "df.info()"
      ],
      "metadata": {
        "id": "k34reCZiAX9x"
      },
      "execution_count": null,
      "outputs": []
    },
    {
      "cell_type": "code",
      "source": [
        "# reading the contents of the \"NetFlix.csv\"\n",
        "df = pd.read_csv(\"2023_rankings.csv\")\n",
        "\n",
        "# printing first 6 raws of the dataframe\n",
        "df.head(100)"
      ],
      "metadata": {
        "id": "5Sl0iLwS_1il"
      },
      "execution_count": null,
      "outputs": []
    },
    {
      "cell_type": "code",
      "source": [
        "my_df =df[['rank','name','scores_overall','scores_teaching','scores_research','location','stats_number_students']].copy()"
      ],
      "metadata": {
        "id": "e-0mcSqpDtF5"
      },
      "execution_count": null,
      "outputs": []
    },
    {
      "cell_type": "code",
      "source": [
        "my_df.info()"
      ],
      "metadata": {
        "id": "d7-Uq9KjFIeP"
      },
      "execution_count": null,
      "outputs": []
    },
    {
      "cell_type": "code",
      "source": [
        "my_df"
      ],
      "metadata": {
        "id": "5CMw4-FUFS0Y"
      },
      "execution_count": null,
      "outputs": []
    },
    {
      "cell_type": "code",
      "source": [
        "my_df.isnull().values.any()"
      ],
      "metadata": {
        "id": "dc-kkBjmFw8v"
      },
      "execution_count": null,
      "outputs": []
    },
    {
      "cell_type": "code",
      "source": [
        "my_df.isnull().sum()"
      ],
      "metadata": {
        "id": "lQ0cQXHbGEBo"
      },
      "execution_count": null,
      "outputs": []
    },
    {
      "cell_type": "code",
      "source": [
        "df.isnull().sum().sum()"
      ],
      "metadata": {
        "id": "mXNm3rYpGPQQ"
      },
      "execution_count": null,
      "outputs": []
    },
    {
      "cell_type": "code",
      "source": [
        "my_df.isna().sum()/(len(df))*100"
      ],
      "metadata": {
        "id": "WU0z4rl3G0K_"
      },
      "execution_count": null,
      "outputs": []
    },
    {
      "cell_type": "code",
      "source": [
        "my_df.isnull().sum()/(len(df))*100"
      ],
      "metadata": {
        "id": "zgsAj1_AHIiX"
      },
      "execution_count": null,
      "outputs": []
    },
    {
      "cell_type": "code",
      "source": [
        "df2 = my_df.dropna()"
      ],
      "metadata": {
        "id": "1dRbTCUAHYGu"
      },
      "execution_count": null,
      "outputs": []
    },
    {
      "cell_type": "code",
      "source": [
        "df2"
      ],
      "metadata": {
        "id": "M0t5x-LsHkPB"
      },
      "execution_count": null,
      "outputs": []
    },
    {
      "cell_type": "code",
      "source": [
        "df2.isnull().values.any()"
      ],
      "metadata": {
        "id": "YKIk-_JTH2m-"
      },
      "execution_count": null,
      "outputs": []
    },
    {
      "cell_type": "markdown",
      "source": [
        "    Только рф"
      ],
      "metadata": {
        "id": "u_f1wUGrIaXf"
      }
    },
    {
      "cell_type": "code",
      "source": [
        "rslt_df = df2[df2['location'] == 'Russian Federation']"
      ],
      "metadata": {
        "id": "aqSxSWa6IZo3"
      },
      "execution_count": null,
      "outputs": []
    },
    {
      "cell_type": "code",
      "source": [
        "rslt_df"
      ],
      "metadata": {
        "id": "fCKxWwvpI5JP"
      },
      "execution_count": null,
      "outputs": []
    },
    {
      "cell_type": "code",
      "source": [
        "rslt_df.reset_index(drop=True, inplace=True)"
      ],
      "metadata": {
        "id": "Xb4JPTU-JkJS"
      },
      "execution_count": null,
      "outputs": []
    },
    {
      "cell_type": "code",
      "source": [
        "rslt_df"
      ],
      "metadata": {
        "id": "y9MnDnSiJnaf"
      },
      "execution_count": null,
      "outputs": []
    },
    {
      "cell_type": "code",
      "source": [
        "rslt_df.info()"
      ],
      "metadata": {
        "id": "N5xIXkRUJyqY"
      },
      "execution_count": null,
      "outputs": []
    },
    {
      "cell_type": "code",
      "source": [
        "rslt_df['scores_overall']=rslt_df['scores_overall'].str[-4:]"
      ],
      "metadata": {
        "id": "niCu2mX4KEem"
      },
      "execution_count": null,
      "outputs": []
    },
    {
      "cell_type": "code",
      "source": [
        "rslt_df.info()"
      ],
      "metadata": {
        "id": "NE2UsGxkK8W1"
      },
      "execution_count": null,
      "outputs": []
    },
    {
      "cell_type": "code",
      "source": [
        "rslt_df"
      ],
      "metadata": {
        "id": "mUF3EICPMYp4"
      },
      "execution_count": null,
      "outputs": []
    },
    {
      "cell_type": "code",
      "source": [
        "rslt_df['scores_overall'] = rslt_df['scores_overall'].astype('float64')"
      ],
      "metadata": {
        "id": "tNJ4FPrlMluF"
      },
      "execution_count": null,
      "outputs": []
    },
    {
      "cell_type": "code",
      "source": [
        "rslt_df.info()"
      ],
      "metadata": {
        "id": "11EfisRrMvH0"
      },
      "execution_count": null,
      "outputs": []
    },
    {
      "cell_type": "code",
      "source": [
        "dd=rslt_df"
      ],
      "metadata": {
        "id": "-spbd9RUOMA6"
      },
      "execution_count": null,
      "outputs": []
    },
    {
      "cell_type": "code",
      "source": [
        "dd['stats_number_students'] = [x.replace(',', '.') for x in dd['stats_number_students']]"
      ],
      "metadata": {
        "id": "s4NnoD-POPpi"
      },
      "execution_count": null,
      "outputs": []
    },
    {
      "cell_type": "code",
      "source": [
        "dd.info()"
      ],
      "metadata": {
        "id": "XzSH3E7UOWFI"
      },
      "execution_count": null,
      "outputs": []
    },
    {
      "cell_type": "code",
      "source": [
        "dd['scores_overall'] = dd['scores_overall'].astype('float64')"
      ],
      "metadata": {
        "id": "7m4tvsuQOl3K"
      },
      "execution_count": null,
      "outputs": []
    },
    {
      "cell_type": "code",
      "source": [
        "dd.to_excel(\"education_ru.xlsx\", sheet_name='education_ru')\n",
        "from google.colab import files\n",
        "files.download('education_ru.xlsx')"
      ],
      "metadata": {
        "colab": {
          "base_uri": "https://localhost:8080/",
          "height": 17
        },
        "id": "xK-JsI07O3Ui",
        "outputId": "25f7ac3f-f2ba-4a6a-ed73-a77c8213bb19"
      },
      "execution_count": null,
      "outputs": [
        {
          "output_type": "display_data",
          "data": {
            "text/plain": [
              "<IPython.core.display.Javascript object>"
            ],
            "application/javascript": [
              "\n",
              "    async function download(id, filename, size) {\n",
              "      if (!google.colab.kernel.accessAllowed) {\n",
              "        return;\n",
              "      }\n",
              "      const div = document.createElement('div');\n",
              "      const label = document.createElement('label');\n",
              "      label.textContent = `Downloading \"${filename}\": `;\n",
              "      div.appendChild(label);\n",
              "      const progress = document.createElement('progress');\n",
              "      progress.max = size;\n",
              "      div.appendChild(progress);\n",
              "      document.body.appendChild(div);\n",
              "\n",
              "      const buffers = [];\n",
              "      let downloaded = 0;\n",
              "\n",
              "      const channel = await google.colab.kernel.comms.open(id);\n",
              "      // Send a message to notify the kernel that we're ready.\n",
              "      channel.send({})\n",
              "\n",
              "      for await (const message of channel.messages) {\n",
              "        // Send a message to notify the kernel that we're ready.\n",
              "        channel.send({})\n",
              "        if (message.buffers) {\n",
              "          for (const buffer of message.buffers) {\n",
              "            buffers.push(buffer);\n",
              "            downloaded += buffer.byteLength;\n",
              "            progress.value = downloaded;\n",
              "          }\n",
              "        }\n",
              "      }\n",
              "      const blob = new Blob(buffers, {type: 'application/binary'});\n",
              "      const a = document.createElement('a');\n",
              "      a.href = window.URL.createObjectURL(blob);\n",
              "      a.download = filename;\n",
              "      div.appendChild(a);\n",
              "      a.click();\n",
              "      div.remove();\n",
              "    }\n",
              "  "
            ]
          },
          "metadata": {}
        },
        {
          "output_type": "display_data",
          "data": {
            "text/plain": [
              "<IPython.core.display.Javascript object>"
            ],
            "application/javascript": [
              "download(\"download_d472c9c3-2a5c-44ea-9dbc-6ea85975f9f4\", \"education_ru.xlsx\", 9212)"
            ]
          },
          "metadata": {}
        }
      ]
    }
  ]
}